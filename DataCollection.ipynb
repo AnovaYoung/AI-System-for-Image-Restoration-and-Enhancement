{
  "cells": [
    {
      "cell_type": "markdown",
      "metadata": {
        "id": "view-in-github",
        "colab_type": "text"
      },
      "source": [
        "<a href=\"https://colab.research.google.com/github/AnovaYoung/AI-System-for-Image-Restoration-and-Enhancement/blob/Data/DataCollection.ipynb\" target=\"_parent\"><img src=\"https://colab.research.google.com/assets/colab-badge.svg\" alt=\"Open In Colab\"/></a>"
      ]
    },
    {
      "cell_type": "code",
      "execution_count": null,
      "metadata": {
        "collapsed": true,
        "id": "7fv8Er-bM2gc",
        "colab": {
          "base_uri": "https://localhost:8080/"
        },
        "outputId": "541f5360-0977-476b-a4f5-9ea13fa80ca7"
      },
      "outputs": [
        {
          "output_type": "stream",
          "name": "stdout",
          "text": [
            "Requirement already satisfied: pycocotools in /usr/local/lib/python3.10/dist-packages (2.0.8)\n",
            "Requirement already satisfied: matplotlib>=2.1.0 in /usr/local/lib/python3.10/dist-packages (from pycocotools) (3.8.0)\n",
            "Requirement already satisfied: numpy in /usr/local/lib/python3.10/dist-packages (from pycocotools) (1.26.4)\n",
            "Requirement already satisfied: contourpy>=1.0.1 in /usr/local/lib/python3.10/dist-packages (from matplotlib>=2.1.0->pycocotools) (1.3.1)\n",
            "Requirement already satisfied: cycler>=0.10 in /usr/local/lib/python3.10/dist-packages (from matplotlib>=2.1.0->pycocotools) (0.12.1)\n",
            "Requirement already satisfied: fonttools>=4.22.0 in /usr/local/lib/python3.10/dist-packages (from matplotlib>=2.1.0->pycocotools) (4.55.0)\n",
            "Requirement already satisfied: kiwisolver>=1.0.1 in /usr/local/lib/python3.10/dist-packages (from matplotlib>=2.1.0->pycocotools) (1.4.7)\n",
            "Requirement already satisfied: packaging>=20.0 in /usr/local/lib/python3.10/dist-packages (from matplotlib>=2.1.0->pycocotools) (24.2)\n",
            "Requirement already satisfied: pillow>=6.2.0 in /usr/local/lib/python3.10/dist-packages (from matplotlib>=2.1.0->pycocotools) (11.0.0)\n",
            "Requirement already satisfied: pyparsing>=2.3.1 in /usr/local/lib/python3.10/dist-packages (from matplotlib>=2.1.0->pycocotools) (3.2.0)\n",
            "Requirement already satisfied: python-dateutil>=2.7 in /usr/local/lib/python3.10/dist-packages (from matplotlib>=2.1.0->pycocotools) (2.8.2)\n",
            "Requirement already satisfied: six>=1.5 in /usr/local/lib/python3.10/dist-packages (from python-dateutil>=2.7->matplotlib>=2.1.0->pycocotools) (1.16.0)\n"
          ]
        }
      ],
      "source": [
        "!pip install pycocotools"
      ]
    },
    {
      "cell_type": "markdown",
      "metadata": {
        "id": "evsOznBay8xA"
      },
      "source": [
        "Combining COCO and TinyImageNet into one Dataset"
      ]
    },
    {
      "cell_type": "code",
      "source": [
        "import tensorflow as tf\n",
        "\n",
        "# Check if GPU is available\n",
        "if tf.config.list_physical_devices('GPU'):\n",
        "    print(\"GPU is enabled and available.\")\n",
        "else:\n",
        "    print(\"GPU is not available. Please ensure you enabled it in Runtime settings.\")\n"
      ],
      "metadata": {
        "colab": {
          "base_uri": "https://localhost:8080/"
        },
        "id": "QyPnd_2QwMIO",
        "outputId": "eabc3b46-ff59-488a-ce90-b87f47a6c8f7"
      },
      "execution_count": null,
      "outputs": [
        {
          "output_type": "stream",
          "name": "stdout",
          "text": [
            "GPU is enabled and available.\n"
          ]
        }
      ]
    },
    {
      "cell_type": "code",
      "source": [
        "# Update TensorFlow or PyTorch for GPU compatibility\n",
        "!pip install --upgrade tensorflow\n",
        "!pip install torch torchvision torchaudio --index-url https://download.pytorch.org/whl/cu118\n"
      ],
      "metadata": {
        "colab": {
          "base_uri": "https://localhost:8080/"
        },
        "collapsed": true,
        "id": "ObBLk4VAwPjf",
        "outputId": "a839ed2a-0fb0-4459-b9c1-3ad9b15b39ce"
      },
      "execution_count": null,
      "outputs": [
        {
          "output_type": "stream",
          "name": "stdout",
          "text": [
            "Requirement already satisfied: tensorflow in /usr/local/lib/python3.10/dist-packages (2.18.0)\n",
            "Requirement already satisfied: absl-py>=1.0.0 in /usr/local/lib/python3.10/dist-packages (from tensorflow) (1.4.0)\n",
            "Requirement already satisfied: astunparse>=1.6.0 in /usr/local/lib/python3.10/dist-packages (from tensorflow) (1.6.3)\n",
            "Requirement already satisfied: flatbuffers>=24.3.25 in /usr/local/lib/python3.10/dist-packages (from tensorflow) (24.3.25)\n",
            "Requirement already satisfied: gast!=0.5.0,!=0.5.1,!=0.5.2,>=0.2.1 in /usr/local/lib/python3.10/dist-packages (from tensorflow) (0.6.0)\n",
            "Requirement already satisfied: google-pasta>=0.1.1 in /usr/local/lib/python3.10/dist-packages (from tensorflow) (0.2.0)\n",
            "Requirement already satisfied: libclang>=13.0.0 in /usr/local/lib/python3.10/dist-packages (from tensorflow) (18.1.1)\n",
            "Requirement already satisfied: opt-einsum>=2.3.2 in /usr/local/lib/python3.10/dist-packages (from tensorflow) (3.4.0)\n",
            "Requirement already satisfied: packaging in /usr/local/lib/python3.10/dist-packages (from tensorflow) (24.2)\n",
            "Requirement already satisfied: protobuf!=4.21.0,!=4.21.1,!=4.21.2,!=4.21.3,!=4.21.4,!=4.21.5,<6.0.0dev,>=3.20.3 in /usr/local/lib/python3.10/dist-packages (from tensorflow) (4.25.5)\n",
            "Requirement already satisfied: requests<3,>=2.21.0 in /usr/local/lib/python3.10/dist-packages (from tensorflow) (2.32.3)\n",
            "Requirement already satisfied: setuptools in /usr/local/lib/python3.10/dist-packages (from tensorflow) (75.1.0)\n",
            "Requirement already satisfied: six>=1.12.0 in /usr/local/lib/python3.10/dist-packages (from tensorflow) (1.16.0)\n",
            "Requirement already satisfied: termcolor>=1.1.0 in /usr/local/lib/python3.10/dist-packages (from tensorflow) (2.5.0)\n",
            "Requirement already satisfied: typing-extensions>=3.6.6 in /usr/local/lib/python3.10/dist-packages (from tensorflow) (4.12.2)\n",
            "Requirement already satisfied: wrapt>=1.11.0 in /usr/local/lib/python3.10/dist-packages (from tensorflow) (1.16.0)\n",
            "Requirement already satisfied: grpcio<2.0,>=1.24.3 in /usr/local/lib/python3.10/dist-packages (from tensorflow) (1.68.0)\n",
            "Requirement already satisfied: tensorboard<2.19,>=2.18 in /usr/local/lib/python3.10/dist-packages (from tensorflow) (2.18.0)\n",
            "Requirement already satisfied: keras>=3.5.0 in /usr/local/lib/python3.10/dist-packages (from tensorflow) (3.5.0)\n",
            "Requirement already satisfied: numpy<2.1.0,>=1.26.0 in /usr/local/lib/python3.10/dist-packages (from tensorflow) (1.26.4)\n",
            "Requirement already satisfied: h5py>=3.11.0 in /usr/local/lib/python3.10/dist-packages (from tensorflow) (3.12.1)\n",
            "Requirement already satisfied: ml-dtypes<0.5.0,>=0.4.0 in /usr/local/lib/python3.10/dist-packages (from tensorflow) (0.4.1)\n",
            "Requirement already satisfied: tensorflow-io-gcs-filesystem>=0.23.1 in /usr/local/lib/python3.10/dist-packages (from tensorflow) (0.37.1)\n",
            "Requirement already satisfied: wheel<1.0,>=0.23.0 in /usr/local/lib/python3.10/dist-packages (from astunparse>=1.6.0->tensorflow) (0.45.0)\n",
            "Requirement already satisfied: rich in /usr/local/lib/python3.10/dist-packages (from keras>=3.5.0->tensorflow) (13.9.4)\n",
            "Requirement already satisfied: namex in /usr/local/lib/python3.10/dist-packages (from keras>=3.5.0->tensorflow) (0.0.8)\n",
            "Requirement already satisfied: optree in /usr/local/lib/python3.10/dist-packages (from keras>=3.5.0->tensorflow) (0.13.1)\n",
            "Requirement already satisfied: charset-normalizer<4,>=2 in /usr/local/lib/python3.10/dist-packages (from requests<3,>=2.21.0->tensorflow) (3.4.0)\n",
            "Requirement already satisfied: idna<4,>=2.5 in /usr/local/lib/python3.10/dist-packages (from requests<3,>=2.21.0->tensorflow) (3.10)\n",
            "Requirement already satisfied: urllib3<3,>=1.21.1 in /usr/local/lib/python3.10/dist-packages (from requests<3,>=2.21.0->tensorflow) (2.2.3)\n",
            "Requirement already satisfied: certifi>=2017.4.17 in /usr/local/lib/python3.10/dist-packages (from requests<3,>=2.21.0->tensorflow) (2024.8.30)\n",
            "Requirement already satisfied: markdown>=2.6.8 in /usr/local/lib/python3.10/dist-packages (from tensorboard<2.19,>=2.18->tensorflow) (3.7)\n",
            "Requirement already satisfied: tensorboard-data-server<0.8.0,>=0.7.0 in /usr/local/lib/python3.10/dist-packages (from tensorboard<2.19,>=2.18->tensorflow) (0.7.2)\n",
            "Requirement already satisfied: werkzeug>=1.0.1 in /usr/local/lib/python3.10/dist-packages (from tensorboard<2.19,>=2.18->tensorflow) (3.1.3)\n",
            "Requirement already satisfied: MarkupSafe>=2.1.1 in /usr/local/lib/python3.10/dist-packages (from werkzeug>=1.0.1->tensorboard<2.19,>=2.18->tensorflow) (3.0.2)\n",
            "Requirement already satisfied: markdown-it-py>=2.2.0 in /usr/local/lib/python3.10/dist-packages (from rich->keras>=3.5.0->tensorflow) (3.0.0)\n",
            "Requirement already satisfied: pygments<3.0.0,>=2.13.0 in /usr/local/lib/python3.10/dist-packages (from rich->keras>=3.5.0->tensorflow) (2.18.0)\n",
            "Requirement already satisfied: mdurl~=0.1 in /usr/local/lib/python3.10/dist-packages (from markdown-it-py>=2.2.0->rich->keras>=3.5.0->tensorflow) (0.1.2)\n",
            "Looking in indexes: https://download.pytorch.org/whl/cu118\n",
            "Requirement already satisfied: torch in /usr/local/lib/python3.10/dist-packages (2.5.1+cu121)\n",
            "Requirement already satisfied: torchvision in /usr/local/lib/python3.10/dist-packages (0.20.1+cu121)\n",
            "Requirement already satisfied: torchaudio in /usr/local/lib/python3.10/dist-packages (2.5.1+cu121)\n",
            "Requirement already satisfied: filelock in /usr/local/lib/python3.10/dist-packages (from torch) (3.16.1)\n",
            "Requirement already satisfied: typing-extensions>=4.8.0 in /usr/local/lib/python3.10/dist-packages (from torch) (4.12.2)\n",
            "Requirement already satisfied: networkx in /usr/local/lib/python3.10/dist-packages (from torch) (3.4.2)\n",
            "Requirement already satisfied: jinja2 in /usr/local/lib/python3.10/dist-packages (from torch) (3.1.4)\n",
            "Requirement already satisfied: fsspec in /usr/local/lib/python3.10/dist-packages (from torch) (2024.10.0)\n",
            "Requirement already satisfied: sympy==1.13.1 in /usr/local/lib/python3.10/dist-packages (from torch) (1.13.1)\n",
            "Requirement already satisfied: mpmath<1.4,>=1.1.0 in /usr/local/lib/python3.10/dist-packages (from sympy==1.13.1->torch) (1.3.0)\n",
            "Requirement already satisfied: numpy in /usr/local/lib/python3.10/dist-packages (from torchvision) (1.26.4)\n",
            "Requirement already satisfied: pillow!=8.3.*,>=5.3.0 in /usr/local/lib/python3.10/dist-packages (from torchvision) (11.0.0)\n",
            "Requirement already satisfied: MarkupSafe>=2.0 in /usr/local/lib/python3.10/dist-packages (from jinja2->torch) (3.0.2)\n"
          ]
        }
      ]
    },
    {
      "cell_type": "code",
      "source": [
        "# Check GPU details for TensorFlow\n",
        "tf.debugging.set_log_device_placement(True)"
      ],
      "metadata": {
        "id": "lgJiGybgw7JI"
      },
      "execution_count": null,
      "outputs": []
    },
    {
      "cell_type": "code",
      "source": [
        "import torch\n",
        "\n",
        "# Check if PyTorch is using the GPU\n",
        "if torch.cuda.is_available():\n",
        "    print(f\"PyTorch is using GPU: {torch.cuda.get_device_name(0)}\")\n",
        "else:\n",
        "    print(\"PyTorch is not using GPU.\")\n"
      ],
      "metadata": {
        "colab": {
          "base_uri": "https://localhost:8080/"
        },
        "id": "p9Vl04Edw_i8",
        "outputId": "fa190ecf-b575-4d44-cc55-54eea50127c5"
      },
      "execution_count": null,
      "outputs": [
        {
          "output_type": "stream",
          "name": "stdout",
          "text": [
            "PyTorch is using GPU: Tesla T4\n"
          ]
        }
      ]
    },
    {
      "cell_type": "code",
      "execution_count": 7,
      "metadata": {
        "colab": {
          "base_uri": "https://localhost:8080/"
        },
        "collapsed": true,
        "id": "lqpZ1CWpaKxY",
        "outputId": "5227ec75-0103-4755-dfe4-372140a0c11c"
      },
      "outputs": [
        {
          "output_type": "stream",
          "name": "stdout",
          "text": [
            "Requirement already satisfied: kaggle in /usr/local/lib/python3.10/dist-packages (1.6.17)\n",
            "Requirement already satisfied: kagglehub in /usr/local/lib/python3.10/dist-packages (0.3.4)\n",
            "Requirement already satisfied: pycocotools in /usr/local/lib/python3.10/dist-packages (2.0.8)\n",
            "Requirement already satisfied: six>=1.10 in /usr/local/lib/python3.10/dist-packages (from kaggle) (1.16.0)\n",
            "Requirement already satisfied: certifi>=2023.7.22 in /usr/local/lib/python3.10/dist-packages (from kaggle) (2024.8.30)\n",
            "Requirement already satisfied: python-dateutil in /usr/local/lib/python3.10/dist-packages (from kaggle) (2.8.2)\n",
            "Requirement already satisfied: requests in /usr/local/lib/python3.10/dist-packages (from kaggle) (2.32.3)\n",
            "Requirement already satisfied: tqdm in /usr/local/lib/python3.10/dist-packages (from kaggle) (4.66.6)\n",
            "Requirement already satisfied: python-slugify in /usr/local/lib/python3.10/dist-packages (from kaggle) (8.0.4)\n",
            "Requirement already satisfied: urllib3 in /usr/local/lib/python3.10/dist-packages (from kaggle) (2.2.3)\n",
            "Requirement already satisfied: bleach in /usr/local/lib/python3.10/dist-packages (from kaggle) (6.2.0)\n",
            "Requirement already satisfied: packaging in /usr/local/lib/python3.10/dist-packages (from kagglehub) (24.2)\n",
            "Requirement already satisfied: matplotlib>=2.1.0 in /usr/local/lib/python3.10/dist-packages (from pycocotools) (3.8.0)\n",
            "Requirement already satisfied: numpy in /usr/local/lib/python3.10/dist-packages (from pycocotools) (1.26.4)\n",
            "Requirement already satisfied: contourpy>=1.0.1 in /usr/local/lib/python3.10/dist-packages (from matplotlib>=2.1.0->pycocotools) (1.3.1)\n",
            "Requirement already satisfied: cycler>=0.10 in /usr/local/lib/python3.10/dist-packages (from matplotlib>=2.1.0->pycocotools) (0.12.1)\n",
            "Requirement already satisfied: fonttools>=4.22.0 in /usr/local/lib/python3.10/dist-packages (from matplotlib>=2.1.0->pycocotools) (4.55.0)\n",
            "Requirement already satisfied: kiwisolver>=1.0.1 in /usr/local/lib/python3.10/dist-packages (from matplotlib>=2.1.0->pycocotools) (1.4.7)\n",
            "Requirement already satisfied: pillow>=6.2.0 in /usr/local/lib/python3.10/dist-packages (from matplotlib>=2.1.0->pycocotools) (11.0.0)\n",
            "Requirement already satisfied: pyparsing>=2.3.1 in /usr/local/lib/python3.10/dist-packages (from matplotlib>=2.1.0->pycocotools) (3.2.0)\n",
            "Requirement already satisfied: webencodings in /usr/local/lib/python3.10/dist-packages (from bleach->kaggle) (0.5.1)\n",
            "Requirement already satisfied: text-unidecode>=1.3 in /usr/local/lib/python3.10/dist-packages (from python-slugify->kaggle) (1.3)\n",
            "Requirement already satisfied: charset-normalizer<4,>=2 in /usr/local/lib/python3.10/dist-packages (from requests->kaggle) (3.4.0)\n",
            "Requirement already satisfied: idna<4,>=2.5 in /usr/local/lib/python3.10/dist-packages (from requests->kaggle) (3.10)\n",
            "Downloading Tiny ImageNet...\n",
            "Tiny ImageNet downloaded and extracted to: /content/data/tiny_imagenet\n",
            "Downloading COCO Dataset...\n",
            "--2024-11-24 20:24:32--  http://images.cocodataset.org/zips/train2017.zip\n",
            "Resolving images.cocodataset.org (images.cocodataset.org)... 52.217.72.76, 52.217.66.252, 52.217.229.1, ...\n",
            "Connecting to images.cocodataset.org (images.cocodataset.org)|52.217.72.76|:80... connected.\n",
            "HTTP request sent, awaiting response... 200 OK\n",
            "Length: 19336861798 (18G) [application/zip]\n",
            "Saving to: ‘/content/data/coco/train2017.zip’\n",
            "\n",
            "/content/data/coco/ 100%[===================>]  18.01G  16.7MB/s    in 18m 59s \n",
            "\n",
            "2024-11-24 20:43:32 (16.2 MB/s) - ‘/content/data/coco/train2017.zip’ saved [19336861798/19336861798]\n",
            "\n",
            "COCO Dataset downloaded and extracted to: /content/data/coco\n",
            "\n",
            "Verifying dataset at /content/data/tiny_imagenet:\n",
            "Found 1 files/folders.\n",
            "Sample files: ['tiny-imagenet-200']\n",
            "\n",
            "Verifying dataset at /content/data/coco/train2017:\n",
            "Found 118287 files/folders.\n",
            "Sample files: ['000000241196.jpg', '000000255362.jpg', '000000279009.jpg', '000000540460.jpg', '000000564253.jpg']\n"
          ]
        }
      ],
      "source": [
        "# Install necessary libraries\n",
        "!pip install kaggle kagglehub pycocotools\n",
        "\n",
        "import os\n",
        "import kagglehub\n",
        "from pycocotools.coco import COCO\n",
        "import requests\n",
        "import zipfile\n",
        "\n",
        "# Define base directories\n",
        "base_dir = \"/content/data\"\n",
        "os.makedirs(base_dir, exist_ok=True)\n",
        "\n",
        "# --------------------------------------\n",
        "# STEP 1: Download Tiny ImageNet\n",
        "# --------------------------------------\n",
        "print(\"Downloading Tiny ImageNet...\")\n",
        "tiny_imagenet_path = kagglehub.dataset_download(\"akash2sharma/tiny-imagenet\")\n",
        "tiny_imagenet_dir = os.path.join(base_dir, \"tiny_imagenet\")\n",
        "os.makedirs(tiny_imagenet_dir, exist_ok=True)\n",
        "\n",
        "# Move Tiny ImageNet to base_dir\n",
        "!cp -r {tiny_imagenet_path}/* {tiny_imagenet_dir}\n",
        "print(\"Tiny ImageNet downloaded and extracted to:\", tiny_imagenet_dir)\n",
        "\n",
        "# --------------------------------------\n",
        "# STEP 2: Download COCO Dataset\n",
        "# --------------------------------------\n",
        "print(\"Downloading COCO Dataset...\")\n",
        "coco_url = \"http://images.cocodataset.org/zips/train2017.zip\"\n",
        "coco_dir = os.path.join(base_dir, \"coco\")\n",
        "os.makedirs(coco_dir, exist_ok=True)\n",
        "\n",
        "# Download and extract COCO\n",
        "coco_zip_path = os.path.join(coco_dir, \"train2017.zip\")\n",
        "!wget {coco_url} -O {coco_zip_path}\n",
        "with zipfile.ZipFile(coco_zip_path, \"r\") as zip_ref:\n",
        "    zip_ref.extractall(coco_dir)\n",
        "os.remove(coco_zip_path)  # Clean up the zip file\n",
        "print(\"COCO Dataset downloaded and extracted to:\", coco_dir)\n",
        "\n",
        "# --------------------------------------\n",
        "# STEP 3: Verify Both Datasets\n",
        "# --------------------------------------\n",
        "def verify_dataset(directory, sample_files=5):\n",
        "    print(f\"\\nVerifying dataset at {directory}:\")\n",
        "    if os.path.exists(directory) and os.listdir(directory):\n",
        "        print(f\"Found {len(os.listdir(directory))} files/folders.\")\n",
        "        print(f\"Sample files: {os.listdir(directory)[:sample_files]}\")\n",
        "    else:\n",
        "        print(f\"No files found in {directory}.\")\n",
        "\n",
        "verify_dataset(tiny_imagenet_dir)\n",
        "\n",
        "verify_dataset(os.path.join(coco_dir, \"train2017\"))\n"
      ]
    },
    {
      "cell_type": "code",
      "execution_count": 8,
      "metadata": {
        "id": "AialoiPYz2Q4",
        "colab": {
          "base_uri": "https://localhost:8080/"
        },
        "outputId": "71e59cff-657a-4c77-cf28-89ecc4c49802"
      },
      "outputs": [
        {
          "output_type": "stream",
          "name": "stdout",
          "text": [
            "Processing Tiny ImageNet...\n",
            "Processing COCO Dataset...\n",
            "Saving metadata...\n",
            "Unified dataset metadata saved to: /content/unified_dataset_balanced.csv\n",
            "                                            image_path        task source  \\\n",
            "199995  /content/unified_dataset/coco_000000226899.jpg  inpainting   COCO   \n",
            "199996  /content/unified_dataset/coco_000000330513.jpg  inpainting   COCO   \n",
            "199997  /content/unified_dataset/coco_000000448700.jpg  inpainting   COCO   \n",
            "199998  /content/unified_dataset/coco_000000194871.jpg  inpainting   COCO   \n",
            "199999  /content/unified_dataset/coco_000000373440.jpg  inpainting   COCO   \n",
            "\n",
            "       augmentation_type  \n",
            "199995              none  \n",
            "199996              none  \n",
            "199997              none  \n",
            "199998              none  \n",
            "199999              none  \n"
          ]
        }
      ],
      "source": [
        "import pandas as pd\n",
        "from shutil import copy2\n",
        "import os\n",
        "import random\n",
        "from multiprocessing import Pool, cpu_count\n",
        "\n",
        "# Base paths\n",
        "tiny_imagenet_dir = \"/content/data/tiny_imagenet/tiny-imagenet-200/train\"\n",
        "coco_dir = \"/content/data/coco/train2017\"\n",
        "unified_dataset_dir = \"/content/unified_dataset\"\n",
        "os.makedirs(unified_dataset_dir, exist_ok=True)\n",
        "\n",
        "metadata = []\n",
        "\n",
        "# --------------------------------------\n",
        "# STEP 1: Helper Function for File Copying\n",
        "# --------------------------------------\n",
        "def copy_file_with_metadata(args):\n",
        "    src, dest, task, source, augmentation_type = args\n",
        "    copy2(src, dest)  # Use copy2 for metadata preservation\n",
        "    return {\n",
        "        \"image_path\": dest,\n",
        "        \"task\": task,\n",
        "        \"source\": source,\n",
        "        \"augmentation_type\": augmentation_type,\n",
        "    }\n",
        "\n",
        "# --------------------------------------\n",
        "# STEP 2: Process Tiny ImageNet\n",
        "# --------------------------------------\n",
        "print(\"Processing Tiny ImageNet...\")\n",
        "\n",
        "tiny_imagenet_files = []\n",
        "for class_dir in os.listdir(tiny_imagenet_dir):\n",
        "    class_path = os.path.join(tiny_imagenet_dir, class_dir, \"images\")\n",
        "    if os.path.isdir(class_path):\n",
        "        for img_file in os.listdir(class_path):\n",
        "            src_path = os.path.join(class_path, img_file)\n",
        "            dest_path = os.path.join(unified_dataset_dir, f\"tiny_imagenet_{img_file}\")\n",
        "            tiny_imagenet_files.append((src_path, dest_path, \"denoising\", \"Tiny ImageNet\", \"none\"))\n",
        "\n",
        "# Use multiprocessing for Tiny ImageNet\n",
        "with Pool(cpu_count()) as pool:\n",
        "    tiny_imagenet_metadata = pool.map(copy_file_with_metadata, tiny_imagenet_files)\n",
        "metadata.extend(tiny_imagenet_metadata)\n",
        "\n",
        "# --------------------------------------\n",
        "# STEP 3: Process COCO Dataset\n",
        "# --------------------------------------\n",
        "print(\"Processing COCO Dataset...\")\n",
        "\n",
        "# Shuffle and select COCO subset\n",
        "coco_images = [os.path.join(coco_dir, img) for img in os.listdir(coco_dir)]\n",
        "random.shuffle(coco_images)\n",
        "coco_subset = coco_images[:100000]\n",
        "\n",
        "coco_files = [\n",
        "    (src_path, os.path.join(unified_dataset_dir, f\"coco_{os.path.basename(src_path)}\"), \"inpainting\", \"COCO\", \"none\")\n",
        "    for src_path in coco_subset\n",
        "]\n",
        "\n",
        "# Use multiprocessing for COCO\n",
        "with Pool(cpu_count()) as pool:\n",
        "    coco_metadata = pool.map(copy_file_with_metadata, coco_files)\n",
        "metadata.extend(coco_metadata)\n",
        "\n",
        "# --------------------------------------\n",
        "# STEP 4: Save Metadata to CSV\n",
        "# --------------------------------------\n",
        "print(\"Saving metadata...\")\n",
        "metadata_df = pd.DataFrame(metadata)\n",
        "metadata_csv_path = \"/content/unified_dataset_balanced.csv\"\n",
        "metadata_df.to_csv(metadata_csv_path, index=False)\n",
        "print(f\"Unified dataset metadata saved to: {metadata_csv_path}\")\n",
        "\n",
        "print(metadata_df.tail())\n"
      ]
    },
    {
      "cell_type": "code",
      "execution_count": 9,
      "metadata": {
        "id": "AVtZi7b0-nSs",
        "colab": {
          "base_uri": "https://localhost:8080/"
        },
        "outputId": "04b04055-fb87-4ffa-f285-7b3d251bd3cd"
      },
      "outputs": [
        {
          "output_type": "stream",
          "name": "stdout",
          "text": [
            "task\n",
            "denoising     100000\n",
            "inpainting    100000\n",
            "Name: count, dtype: int64\n",
            "source\n",
            "Tiny ImageNet    100000\n",
            "COCO             100000\n",
            "Name: count, dtype: int64\n"
          ]
        }
      ],
      "source": [
        "metadata_df = pd.read_csv(\"/content/unified_dataset_balanced.csv\")\n",
        "print(metadata_df['task'].value_counts())\n",
        "print(metadata_df['source'].value_counts())\n"
      ]
    },
    {
      "cell_type": "code",
      "execution_count": 10,
      "metadata": {
        "id": "NcZx494KRkzc",
        "colab": {
          "base_uri": "https://localhost:8080/"
        },
        "outputId": "61ea4969-fd04-4dc9-c9fb-404e2fa415bd"
      },
      "outputs": [
        {
          "output_type": "stream",
          "name": "stdout",
          "text": [
            "Dataset Summary:\n",
            "<class 'pandas.core.frame.DataFrame'>\n",
            "RangeIndex: 200000 entries, 0 to 199999\n",
            "Data columns (total 4 columns):\n",
            " #   Column             Non-Null Count   Dtype \n",
            "---  ------             --------------   ----- \n",
            " 0   image_path         200000 non-null  object\n",
            " 1   task               200000 non-null  object\n",
            " 2   source             200000 non-null  object\n",
            " 3   augmentation_type  200000 non-null  object\n",
            "dtypes: object(4)\n",
            "memory usage: 6.1+ MB\n",
            "None\n",
            "\n",
            "Task Distribution:\n",
            "task\n",
            "denoising     100000\n",
            "inpainting    100000\n",
            "Name: count, dtype: int64\n",
            "\n",
            "Source Distribution:\n",
            "source\n",
            "Tiny ImageNet    100000\n",
            "COCO             100000\n",
            "Name: count, dtype: int64\n",
            "\n",
            "Augmentation Type Distribution:\n",
            "augmentation_type\n",
            "none    200000\n",
            "Name: count, dtype: int64\n"
          ]
        }
      ],
      "source": [
        "metadata_csv_path = \"/content/unified_dataset_balanced.csv\"\n",
        "metadata_df = pd.read_csv(metadata_csv_path)\n",
        "\n",
        "# Summarize the dataset\n",
        "print(\"Dataset Summary:\")\n",
        "print(metadata_df.info())\n",
        "print(\"\\nTask Distribution:\")\n",
        "print(metadata_df['task'].value_counts())\n",
        "print(\"\\nSource Distribution:\")\n",
        "print(metadata_df['source'].value_counts())\n",
        "print(\"\\nAugmentation Type Distribution:\")\n",
        "print(metadata_df['augmentation_type'].value_counts())\n"
      ]
    },
    {
      "cell_type": "code",
      "execution_count": 11,
      "metadata": {
        "id": "KbgRCHjJRxUk",
        "colab": {
          "base_uri": "https://localhost:8080/"
        },
        "outputId": "35412367-49a0-4ea5-a716-642707d9878b"
      },
      "outputs": [
        {
          "output_type": "stream",
          "name": "stdout",
          "text": [
            "Missing Values:\n",
            "image_path           0\n",
            "task                 0\n",
            "source               0\n",
            "augmentation_type    0\n",
            "dtype: int64\n",
            "Number of duplicate image paths: 0\n"
          ]
        }
      ],
      "source": [
        "# Check for missing values\n",
        "print(\"Missing Values:\")\n",
        "print(metadata_df.isnull().sum())\n",
        "\n",
        "# Check for duplicates\n",
        "duplicates = metadata_df.duplicated(subset='image_path')\n",
        "print(f\"Number of duplicate image paths: {duplicates.sum()}\")\n"
      ]
    },
    {
      "cell_type": "code",
      "execution_count": 12,
      "metadata": {
        "id": "8E-upOEvRyoj",
        "colab": {
          "base_uri": "https://localhost:8080/",
          "height": 1000
        },
        "outputId": "791a75f5-20be-48db-ffb4-549950e0f8f6"
      },
      "outputs": [
        {
          "output_type": "stream",
          "name": "stdout",
          "text": [
            "Task Distribution:\n",
            " task\n",
            "denoising     100000\n",
            "inpainting    100000\n",
            "Name: count, dtype: int64\n",
            "\n",
            "Source Distribution:\n",
            " source\n",
            "Tiny ImageNet    100000\n",
            "COCO             100000\n",
            "Name: count, dtype: int64\n",
            "\n",
            "Augmentation Type Distribution:\n",
            " augmentation_type\n",
            "none    200000\n",
            "Name: count, dtype: int64\n"
          ]
        },
        {
          "output_type": "display_data",
          "data": {
            "text/plain": [
              "<Figure size 800x500 with 1 Axes>"
            ],
            "image/png": "[encoded data removed]"
          },
          "metadata": {}
        },
        {
          "output_type": "display_data",
          "data": {
            "text/plain": [
              "<Figure size 800x500 with 1 Axes>"
            ],
            "image/png": "[encoded data removed]"
          },
          "metadata": {}
        },
        {
          "output_type": "display_data",
          "data": {
            "text/plain": [
              "<Figure size 800x500 with 1 Axes>"
            ],
            "image/png": "[encoded data removed]"
          },
          "metadata": {}
        }
      ],
      "source": [
        "import pandas as pd\n",
        "import matplotlib.pyplot as plt\n",
        "\n",
        "# Load the dataset\n",
        "metadata_csv_path = \"/content/unified_dataset_balanced.csv\"\n",
        "metadata_df = pd.read_csv(metadata_csv_path)\n",
        "\n",
        "# Task Distribution\n",
        "task_counts = metadata_df['task'].value_counts()\n",
        "\n",
        "# Source Distribution\n",
        "source_counts = metadata_df['source'].value_counts()\n",
        "\n",
        "# Augmentation Type Distribution\n",
        "augmentation_counts = metadata_df['augmentation_type'].value_counts()\n",
        "\n",
        "# Display Distributions\n",
        "print(\"Task Distribution:\\n\", task_counts)\n",
        "print(\"\\nSource Distribution:\\n\", source_counts)\n",
        "print(\"\\nAugmentation Type Distribution:\\n\", augmentation_counts)\n",
        "\n",
        "# Visualization: Task Distribution\n",
        "plt.figure(figsize=(8, 5))\n",
        "task_counts.plot(kind='bar', title=\"Task Distribution\", rot=0)\n",
        "plt.xlabel(\"Task\")\n",
        "plt.ylabel(\"Count\")\n",
        "plt.show()\n",
        "\n",
        "# Visualization: Source Distribution\n",
        "plt.figure(figsize=(8, 5))\n",
        "source_counts.plot(kind='bar', title=\"Source Distribution\", rot=0, color=\"orange\")\n",
        "plt.xlabel(\"Source\")\n",
        "plt.ylabel(\"Count\")\n",
        "plt.show()\n",
        "\n",
        "# Visualization: Augmentation Type Distribution\n",
        "plt.figure(figsize=(8, 5))\n",
        "augmentation_counts.plot(kind='bar', title=\"Augmentation Type Distribution\", rot=0, color=\"green\")\n",
        "plt.xlabel(\"Augmentation Type\")\n",
        "plt.ylabel(\"Count\")\n",
        "plt.show()\n",
        "\n"
      ]
    },
    {
      "cell_type": "markdown",
      "metadata": {
        "id": "ebAsYbc-SdsC"
      },
      "source": [
        "# Dataset Summary\n",
        "**DataFrame Overview:**\n",
        "The dataset contains 123,657 rows and 4 columns:\n",
        "\n",
        "image_path: Path to each image file.\n",
        "\n",
        "**task:** The enhancement task for the image (e.g., denoising, inpainting).\n",
        "\n",
        "**source:** The dataset from which the image originates (Tiny ImageNet or COCO).\n",
        "\n",
        "**augmentation_type:** Indicates whether any degradation/augmentation has been applied (currently all none).\\\n",
        "\n",
        "**Memory Usage:** Approximately 3.8 MB, which is lightweight for a metadata file.\n",
        "\n"
      ]
    },
    {
      "cell_type": "markdown",
      "metadata": {
        "id": "deGVgiSkSuDU"
      },
      "source": [
        "# Distribution Insights\n",
        "\n",
        "**Task Distribution:**\n",
        "\n",
        "**Denoising:** 100,000 images (most likely sourced from Tiny ImageNet).\n",
        "\n",
        "**Inpainting:** 23,657 images (entirely from COCO).\n",
        "\n",
        "**Observation:** The dataset is imbalanced, with a significantly higher proportion of denoising images. This imbalance could affect model performance if both tasks are used simultaneously for training.\n",
        "\n",
        "**Source Distribution:**\n",
        "\n",
        "**Tiny ImageNet:** 100,000 images, all categorized under the denoising task.\n",
        "\n",
        "**COCO:** 23,657 images, all categorized under the inpainting task.\n",
        "Observation: Each source contributes to a specific task, which might streamline preprocessing but limits diversity within tasks.\n",
        "Augmentation Type:\n",
        "\n",
        "All images currently have the augmentation_type set to none, meaning no degradations ( noise, grayscale, downsampling) have been applied yet.\n",
        "\n"
      ]
    },
    {
      "cell_type": "markdown",
      "metadata": {
        "id": "zacuW1AAIGkb"
      },
      "source": [
        "# Next Pull and Process DIV2K for Super-Resolution\n",
        "\n",
        "**What is DIV2K?**\n",
        "\n",
        "A high-quality dataset designed for super-resolution tasks.\n",
        "Provides paired low-resolution (downscaled) and high-resolution images."
      ]
    },
    {
      "cell_type": "code",
      "execution_count": 51,
      "metadata": {
        "id": "UjdXNYlIINPw",
        "colab": {
          "base_uri": "https://localhost:8080/"
        },
        "outputId": "938266bd-651d-4252-9b81-0ee6e3eec090"
      },
      "outputs": [
        {
          "output_type": "stream",
          "name": "stdout",
          "text": [
            "Downloading DIV2K dataset...\n",
            "DIV2K dataset downloaded and extracted.\n",
            "Super-resolution dataset prepared with 800 pairs.\n"
          ]
        }
      ],
      "source": [
        "import requests\n",
        "import os\n",
        "import kagglehub\n",
        "from pycocotools.coco import COCO\n",
        "import requests\n",
        "import zipfile\n",
        "\n",
        "\n",
        "# Set up paths\n",
        "base_dir = \"/content/data\"\n",
        "div2k_dir = os.path.join(base_dir, \"DIV2K\")\n",
        "unified_dataset_dir = \"/content/unified_dataset\"\n",
        "os.makedirs(div2k_dir, exist_ok=True)\n",
        "os.makedirs(unified_dataset_dir, exist_ok=True)\n",
        "\n",
        "# DIV2K dataset URL (train high-resolution images)\n",
        "div2k_url = \"https://data.vision.ee.ethz.ch/cvl/DIV2K/DIV2K_train_HR.zip\"\n",
        "\n",
        "# Download DIV2K dataset\n",
        "div2k_zip_path = os.path.join(div2k_dir, \"DIV2K_train_HR.zip\")\n",
        "print(\"Downloading DIV2K dataset...\")\n",
        "response = requests.get(div2k_url, stream=True)\n",
        "with open(div2k_zip_path, \"wb\") as f:\n",
        "    for chunk in response.iter_content(chunk_size=8192):\n",
        "        f.write(chunk)\n",
        "\n",
        "# Extract DIV2K dataset\n",
        "with zipfile.ZipFile(div2k_zip_path, \"r\") as zip_ref:\n",
        "    zip_ref.extractall(div2k_dir)\n",
        "os.remove(div2k_zip_path)  # Clean up the zip file\n",
        "print(\"DIV2K dataset downloaded and extracted.\")\n",
        "\n",
        "# Prepare paired low-resolution and high-resolution images\n",
        "metadata = []\n",
        "\n",
        "div2k_hr_dir = os.path.join(div2k_dir, \"DIV2K_train_HR\")\n",
        "div2k_lr_dir = os.path.join(unified_dataset_dir, \"super_resolution_lr\")\n",
        "div2k_output_dir = os.path.join(unified_dataset_dir, \"super_resolution_hr\")\n",
        "os.makedirs(div2k_lr_dir, exist_ok=True)\n",
        "os.makedirs(div2k_output_dir, exist_ok=True)\n",
        "\n",
        "# Create paired data\n",
        "from PIL import Image\n",
        "\n",
        "def downscale_image(input_path, output_path, scale_factor=4):\n",
        "    img = Image.open(input_path)\n",
        "    img = img.resize((img.size[0] // scale_factor, img.size[1] // scale_factor), Image.BICUBIC)\n",
        "    img.save(output_path)\n",
        "\n",
        "for img_file in os.listdir(div2k_hr_dir):\n",
        "    hr_img_path = os.path.join(div2k_hr_dir, img_file)\n",
        "    lr_img_path = os.path.join(div2k_lr_dir, img_file)\n",
        "    output_img_path = os.path.join(div2k_output_dir, img_file)\n",
        "\n",
        "    # Downscale for low-resolution\n",
        "    downscale_image(hr_img_path, lr_img_path)\n",
        "    copyfile(hr_img_path, output_img_path)\n",
        "\n",
        "    # Add metadata\n",
        "    metadata.append({\n",
        "        \"image_path\": lr_img_path,\n",
        "        \"task\": \"super_resolution\",\n",
        "        \"source\": \"DIV2K\",\n",
        "        \"augmentation_type\": \"downscaled\"\n",
        "    })\n",
        "\n",
        "# Add metadata for high-resolution targets\n",
        "print(f\"Super-resolution dataset prepared with {len(metadata)} pairs.\")"
      ]
    },
    {
      "cell_type": "code",
      "source": [
        "div2k_hr_dir = os.path.join(div2k_dir, \"DIV2K_train_HR\")\n",
        "div2k_lr_dir = os.path.join(unified_dataset_dir, \"super_resolution_lr\")\n",
        "div2k_output_dir = os.path.join(unified_dataset_dir, \"super_resolution_hr\")\n",
        "\n",
        "# Check high-resolution directory\n",
        "print(f\"Checking high-resolution directory: {div2k_hr_dir}\")\n",
        "hr_files = os.listdir(div2k_hr_dir) if os.path.exists(div2k_hr_dir) else []\n",
        "print(f\"Number of high-resolution images: {len(hr_files)}\")\n",
        "if len(hr_files) > 0:\n",
        "    print(f\"Sample high-resolution files: {hr_files[:5]}\")\n",
        "\n",
        "# Check low-resolution directory\n",
        "print(f\"\\nChecking low-resolution directory: {div2k_lr_dir}\")\n",
        "lr_files = os.listdir(div2k_lr_dir) if os.path.exists(div2k_lr_dir) else []\n",
        "print(f\"Number of low-resolution images: {len(lr_files)}\")\n",
        "if len(lr_files) > 0:\n",
        "    print(f\"Sample low-resolution files: {lr_files[:5]}\")\n",
        "\n",
        "# Check metadata\n",
        "metadata_df = pd.DataFrame(metadata)\n",
        "print(f\"\\nNumber of metadata entries: {len(metadata_df)}\")\n",
        "print(f\"Sample metadata rows:\\n{metadata_df.head()}\")\n",
        "\n",
        "# Optional: Save metadata to CSV for reference\n",
        "metadata_path = \"/content/div2k_metadata.csv\"\n",
        "metadata_df.to_csv(metadata_path, index=False)\n",
        "print(f\"Metadata saved to: {metadata_path}\")\n"
      ],
      "metadata": {
        "colab": {
          "base_uri": "https://localhost:8080/"
        },
        "id": "G2I5UEAkZQRm",
        "outputId": "13f16c21-7286-4c73-91fe-340233d7403e"
      },
      "execution_count": 54,
      "outputs": [
        {
          "output_type": "stream",
          "name": "stdout",
          "text": [
            "Checking high-resolution directory: /content/data/DIV2K/DIV2K_train_HR\n",
            "Number of high-resolution images: 800\n",
            "Sample high-resolution files: ['0342.png', '0437.png', '0209.png', '0613.png', '0739.png']\n",
            "\n",
            "Checking low-resolution directory: /content/unified_dataset/super_resolution_lr\n",
            "Number of low-resolution images: 800\n",
            "Sample low-resolution files: ['0342.png', '0437.png', '0209.png', '0613.png', '0739.png']\n",
            "\n",
            "Number of metadata entries: 800\n",
            "Sample metadata rows:\n",
            "                                          image_path              task source  \\\n",
            "0  /content/unified_dataset/super_resolution_lr/0...  super_resolution  DIV2K   \n",
            "1  /content/unified_dataset/super_resolution_lr/0...  super_resolution  DIV2K   \n",
            "2  /content/unified_dataset/super_resolution_lr/0...  super_resolution  DIV2K   \n",
            "3  /content/unified_dataset/super_resolution_lr/0...  super_resolution  DIV2K   \n",
            "4  /content/unified_dataset/super_resolution_lr/0...  super_resolution  DIV2K   \n",
            "\n",
            "  augmentation_type  \n",
            "0        downscaled  \n",
            "1        downscaled  \n",
            "2        downscaled  \n",
            "3        downscaled  \n",
            "4        downscaled  \n",
            "Metadata saved to: /content/div2k_metadata.csv\n"
          ]
        }
      ]
    },
    {
      "cell_type": "markdown",
      "metadata": {
        "id": "u1t4-hVoRFyC"
      },
      "source": [
        "Way too few examples. Lets pull more data for the Super-resolution\n",
        "task.\n",
        "\n",
        "**Proposed Plan**\n",
        "\n",
        "Combine Multiple Sources:\n",
        "\n",
        "Pull **CIFAR-10/100** and **CelebA-HQ**.\n",
        "\n",
        "Repurpose Tiny ImageNet or COCO subsets for super-resolution after pulling the above datasets, if needed.\n",
        "\n",
        "**Augment Existing DIV2K Data:**\n",
        "\n",
        "Use additional transformations to expand the current dataset (if needeed).\n",
        "\n",
        "**Target Balance:**\n",
        "\n",
        "Aim for ~50,000–100,000 examples for super-resolution to match other tasks."
      ]
    },
    {
      "cell_type": "markdown",
      "metadata": {
        "id": "m-Ixs9PeSiS7"
      },
      "source": [
        "# Pull and Process CIFAR-10 and CIFAR-100"
      ]
    },
    {
      "cell_type": "code",
      "execution_count": 15,
      "metadata": {
        "id": "5e6pamnRSUUQ",
        "colab": {
          "base_uri": "https://localhost:8080/"
        },
        "outputId": "70c5b843-e53a-44ed-e483-a36efb4dae64"
      },
      "outputs": [
        {
          "output_type": "stream",
          "name": "stdout",
          "text": [
            "Downloading data from https://www.cs.toronto.edu/~kriz/cifar-10-python.tar.gz\n",
            "\u001b[1m170498071/170498071\u001b[0m \u001b[32m━━━━━━━━━━━━━━━━━━━━\u001b[0m\u001b[37m\u001b[0m \u001b[1m13s\u001b[0m 0us/step\n",
            "Processing CIFAR-10...\n",
            "Downloading data from https://www.cs.toronto.edu/~kriz/cifar-100-python.tar.gz\n",
            "\u001b[1m169001437/169001437\u001b[0m \u001b[32m━━━━━━━━━━━━━━━━━━━━\u001b[0m\u001b[37m\u001b[0m \u001b[1m25s\u001b[0m 0us/step\n",
            "Processing CIFAR-100...\n"
          ]
        }
      ],
      "source": [
        "from keras.datasets import cifar10, cifar100\n",
        "from PIL import Image\n",
        "\n",
        "# Define paths\n",
        "cifar_dir = \"/content/data/cifar\"\n",
        "cifar10_lr_dir = os.path.join(cifar_dir, \"cifar10_lr\")\n",
        "cifar10_hr_dir = os.path.join(cifar_dir, \"cifar10_hr\")\n",
        "cifar100_lr_dir = os.path.join(cifar_dir, \"cifar100_lr\")\n",
        "cifar100_hr_dir = os.path.join(cifar_dir, \"cifar100_hr\")\n",
        "os.makedirs(cifar10_lr_dir, exist_ok=True)\n",
        "os.makedirs(cifar10_hr_dir, exist_ok=True)\n",
        "os.makedirs(cifar100_lr_dir, exist_ok=True)\n",
        "os.makedirs(cifar100_hr_dir, exist_ok=True)\n",
        "\n",
        "# Function to save low-res and high-res images\n",
        "def process_cifar(data, lr_dir, hr_dir, resize_factor=2):\n",
        "    for i, img_array in enumerate(data):\n",
        "        hr_img = Image.fromarray(img_array)\n",
        "        lr_img = hr_img.resize(\n",
        "            (hr_img.width // resize_factor, hr_img.height // resize_factor), Image.BICUBIC\n",
        "        )\n",
        "\n",
        "        # Save images\n",
        "        hr_path = os.path.join(hr_dir, f\"{i}_hr.png\")\n",
        "        lr_path = os.path.join(lr_dir, f\"{i}_lr.png\")\n",
        "        hr_img.save(hr_path)\n",
        "        lr_img.save(lr_path)\n",
        "\n",
        "        # Add metadata\n",
        "        metadata.append({\n",
        "            \"image_path\": lr_path,\n",
        "            \"task\": \"super_resolution\",\n",
        "            \"source\": \"CIFAR-10\" if \"cifar10\" in hr_dir else \"CIFAR-100\",\n",
        "            \"augmentation_type\": \"downscaled\"\n",
        "        })\n",
        "\n",
        "# Load CIFAR-10\n",
        "(train_images, _), (_, _) = cifar10.load_data()\n",
        "print(\"Processing CIFAR-10...\")\n",
        "process_cifar(train_images, cifar10_lr_dir, cifar10_hr_dir)\n",
        "\n",
        "# Load CIFAR-100\n",
        "(train_images, _), (_, _) = cifar100.load_data()\n",
        "print(\"Processing CIFAR-100...\")\n",
        "process_cifar(train_images, cifar100_lr_dir, cifar100_hr_dir)\n"
      ]
    },
    {
      "cell_type": "markdown",
      "source": [
        "**Verify Processed Image Count**"
      ],
      "metadata": {
        "id": "ChPysaACkfK8"
      }
    },
    {
      "cell_type": "code",
      "source": [
        "# Paths for CIFAR-10 and CIFAR-100\n",
        "cifar10_lr_dir = \"/content/data/cifar/cifar10_lr\"\n",
        "cifar10_hr_dir = \"/content/data/cifar/cifar10_hr\"\n",
        "cifar100_lr_dir = \"/content/data/cifar/cifar100_lr\"\n",
        "cifar100_hr_dir = \"/content/data/cifar/cifar100_hr\"\n",
        "\n",
        "# Count files in each directory\n",
        "print(f\"CIFAR-10 Low-Res: {len(os.listdir(cifar10_lr_dir))} images\")\n",
        "print(f\"CIFAR-10 High-Res: {len(os.listdir(cifar10_hr_dir))} images\")\n",
        "print(f\"CIFAR-100 Low-Res: {len(os.listdir(cifar100_lr_dir))} images\")\n",
        "print(f\"CIFAR-100 High-Res: {len(os.listdir(cifar100_hr_dir))} images\")\n"
      ],
      "metadata": {
        "id": "dxfNmjYakgN6",
        "colab": {
          "base_uri": "https://localhost:8080/"
        },
        "outputId": "e77e2447-f1a2-4397-aee8-5366780249b8"
      },
      "execution_count": 16,
      "outputs": [
        {
          "output_type": "stream",
          "name": "stdout",
          "text": [
            "CIFAR-10 Low-Res: 50000 images\n",
            "CIFAR-10 High-Res: 50000 images\n",
            "CIFAR-100 Low-Res: 50000 images\n",
            "CIFAR-100 High-Res: 50000 images\n"
          ]
        }
      ]
    },
    {
      "cell_type": "code",
      "source": [
        "# Display metadata rows related to CIFAR\n",
        "cifar_metadata = metadata_df[metadata_df['source'].str.contains(\"CIFAR\", na=False)]\n",
        "print(f\"\\nNumber of CIFAR entries in metadata: {len(cifar_metadata)}\")\n",
        "print(cifar_metadata.head())"
      ],
      "metadata": {
        "id": "2jQnj5tKknsK",
        "colab": {
          "base_uri": "https://localhost:8080/"
        },
        "outputId": "22e3771e-874d-461b-d844-2c1293c9e851"
      },
      "execution_count": 17,
      "outputs": [
        {
          "output_type": "stream",
          "name": "stdout",
          "text": [
            "\n",
            "Number of CIFAR entries in metadata: 0\n",
            "Empty DataFrame\n",
            "Columns: [image_path, task, source, augmentation_type]\n",
            "Index: []\n"
          ]
        }
      ]
    },
    {
      "cell_type": "markdown",
      "source": [
        "# Collect Artifact-Specific Data\n",
        "\n",
        "Curate datasets specific to archaeology, including:\n",
        "\n",
        "Damaged Artifact Datasets:\n",
        "\n",
        "**Oxyrhynchus Papyri**: Digitized scans of ancient manuscripts.\n",
        "\n",
        "**Herculaneum Papyri**: High-resolution scans from the ancient Roman library."
      ],
      "metadata": {
        "id": "GoehA3V6vOaK"
      }
    },
    {
      "cell_type": "markdown",
      "source": [
        "# How AL_PUB_v2 Can Contribute\n",
        "Ancient Greek Character Dataset:\n",
        "\n",
        "This dataset provides a wealth of high-quality images of ancient Greek characters, which are directly relevant to the kind of data the model might encounter when working on damaged manuscripts or papyri.\n"
      ],
      "metadata": {
        "id": "TwAJSDXM5SfA"
      }
    },
    {
      "cell_type": "code",
      "source": [
        "# Path to the new ZIP file\n",
        "zip_path = \"/content/archive (5).zip\"\n",
        "extract_path = \"/content/ALPUB_v2_extracted_new\"\n",
        "os.makedirs(extract_path, exist_ok=True)\n",
        "\n",
        "# Extract the ZIP file\n",
        "print(f\"Extracting {zip_path}...\")\n",
        "with zipfile.ZipFile(zip_path, 'r') as zip_ref:\n",
        "    zip_ref.extractall(extract_path)\n",
        "print(f\"Files extracted to: {extract_path}\")\n"
      ],
      "metadata": {
        "colab": {
          "base_uri": "https://localhost:8080/"
        },
        "id": "XMD1A4HzVF46",
        "outputId": "da561708-a44f-4291-fc27-ef8e996756dc"
      },
      "execution_count": 28,
      "outputs": [
        {
          "output_type": "stream",
          "name": "stdout",
          "text": [
            "Extracting /content/archive (5).zip...\n",
            "Files extracted to: /content/ALPUB_v2_extracted_new\n"
          ]
        }
      ]
    },
    {
      "cell_type": "code",
      "source": [
        "# Inspect the extracted directory\n",
        "print(\"Inspecting extracted directory structure...\")\n",
        "for root, dirs, files in os.walk(extract_path):\n",
        "    print(f\"\\nDirectory: {root}\")\n",
        "    print(f\"Subdirectories: {dirs}\")\n",
        "    print(f\"Files: {files[:5]}\")  # Show only the first 5 files\n",
        "    if files:  # Stop early if we find files\n",
        "        break\n"
      ],
      "metadata": {
        "colab": {
          "base_uri": "https://localhost:8080/"
        },
        "id": "0j1L-wXbWgPO",
        "outputId": "418e2d64-f54a-422c-b423-6370cd22095c"
      },
      "execution_count": 29,
      "outputs": [
        {
          "output_type": "stream",
          "name": "stdout",
          "text": [
            "Inspecting extracted directory structure...\n",
            "\n",
            "Directory: /content/ALPUB_v2_extracted_new\n",
            "Subdirectories: ['ALPUB_v2']\n",
            "Files: ['alpub_v2_inventory.txt']\n"
          ]
        }
      ]
    },
    {
      "cell_type": "code",
      "source": [
        "from PIL import Image\n",
        "import matplotlib.pyplot as plt\n",
        "\n",
        "# Collect all image files\n",
        "image_files = []\n",
        "for root, dirs, files in os.walk(extract_path):\n",
        "    for file in files:\n",
        "        if file.endswith(('.png', '.jpg', '.jpeg')):  # Check for image formats\n",
        "            image_files.append(os.path.join(root, file))\n",
        "\n",
        "print(f\"Number of image files found: {len(image_files)}\")\n",
        "\n",
        "# Display some sample images\n",
        "if len(image_files) > 0:\n",
        "    print(\"Displaying sample images...\")\n",
        "    plt.figure(figsize=(10, 5))\n",
        "    for i, img_path in enumerate(image_files[:5]):  # Display first 5 images\n",
        "        img = Image.open(img_path)\n",
        "        plt.subplot(1, 5, i + 1)\n",
        "        plt.imshow(img)\n",
        "        plt.axis(\"off\")\n",
        "    plt.show()\n",
        "else:\n",
        "    print(\"No images found.\")\n"
      ],
      "metadata": {
        "colab": {
          "base_uri": "https://localhost:8080/",
          "height": 205
        },
        "id": "Icp8HJyuWjkT",
        "outputId": "13ac1fb7-e1da-4a58-fd03-010c9c5e465f"
      },
      "execution_count": 30,
      "outputs": [
        {
          "output_type": "stream",
          "name": "stdout",
          "text": [
            "Number of image files found: 205797\n",
            "Displaying sample images...\n"
          ]
        },
        {
          "output_type": "display_data",
          "data": {
            "text/plain": [
              "<Figure size 1000x500 with 5 Axes>"
            ],
            "image/png": "[encoded data removed]"
          },
          "metadata": {}
        }
      ]
    },
    {
      "cell_type": "markdown",
      "source": [
        "# Dynamically Label Images"
      ],
      "metadata": {
        "id": "2B_xBohAvP8O"
      }
    },
    {
      "cell_type": "code",
      "source": [
        "extract_path = \"/content/ALPUB_v2_extracted_new\"\n",
        "\n",
        "# Dynamically locate all image files\n",
        "image_files = []\n",
        "for root, dirs, files in os.walk(extract_path):\n",
        "    for file in files:\n",
        "        if file.endswith(('.png', '.jpg', '.jpeg')):\n",
        "            image_files.append(os.path.join(root, file))\n",
        "\n",
        "# Extract labels from parent directory names\n",
        "metadata = []\n",
        "for img_path in image_files:\n",
        "    # Infer the label from the parent directory name\n",
        "    label = os.path.basename(os.path.dirname(img_path))\n",
        "    metadata.append({\n",
        "        \"image_path\": img_path,\n",
        "        \"label\": label\n",
        "    })\n",
        "\n",
        "# Convert to DataFrame\n",
        "metadata_df = pd.DataFrame(metadata)\n",
        "\n",
        "# Save metadata to CSV\n",
        "metadata_csv_path = \"/content/alpub_metadata_dynamic.csv\"\n",
        "metadata_df.to_csv(metadata_csv_path, index=False)\n",
        "\n",
        "print(f\"Metadata saved to: {metadata_csv_path}\")\n",
        "print(metadata_df.head())\n"
      ],
      "metadata": {
        "colab": {
          "base_uri": "https://localhost:8080/"
        },
        "id": "_v6HA3IzvRsB",
        "outputId": "5c5fb1ae-3257-4007-a008-54c2f741f94a"
      },
      "execution_count": 32,
      "outputs": [
        {
          "output_type": "stream",
          "name": "stdout",
          "text": [
            "Metadata saved to: /content/alpub_metadata_dynamic.csv\n",
            "                                          image_path label\n",
            "0  /content/ALPUB_v2_extracted_new/ALPUB_v2/image...   Rho\n",
            "1  /content/ALPUB_v2_extracted_new/ALPUB_v2/image...   Rho\n",
            "2  /content/ALPUB_v2_extracted_new/ALPUB_v2/image...   Rho\n",
            "3  /content/ALPUB_v2_extracted_new/ALPUB_v2/image...   Rho\n",
            "4  /content/ALPUB_v2_extracted_new/ALPUB_v2/image...   Rho\n"
          ]
        }
      ]
    },
    {
      "cell_type": "code",
      "source": [
        "# Check label distribution\n",
        "label_counts = metadata_df['label'].value_counts()\n",
        "print(\"Label Distribution:\")\n",
        "print(label_counts)\n"
      ],
      "metadata": {
        "colab": {
          "base_uri": "https://localhost:8080/"
        },
        "id": "yK-N4McXvie5",
        "outputId": "a6902ea7-7d49-41ad-dcd2-ccfec63a9a67"
      },
      "execution_count": 33,
      "outputs": [
        {
          "output_type": "stream",
          "name": "stdout",
          "text": [
            "Label Distribution:\n",
            "label\n",
            "Omicron        22756\n",
            "Alpha          21200\n",
            "Nu             20056\n",
            "Epsilon        14909\n",
            "Tau            14817\n",
            "Iota           13830\n",
            "Rho            10453\n",
            "LunateSigma    10151\n",
            "Pi              9031\n",
            "Upsilon         8129\n",
            "Kappa           8110\n",
            "Omega           7640\n",
            "Eta             7348\n",
            "Mu              6924\n",
            "Lambda          6906\n",
            "Delta           5689\n",
            "Chi             4329\n",
            "Gamma           3721\n",
            "Theta           3717\n",
            "Phi             2930\n",
            "Beta            1296\n",
            "Zeta             701\n",
            "Xi               641\n",
            "Psi              513\n",
            "Name: count, dtype: int64\n"
          ]
        }
      ]
    },
    {
      "cell_type": "code",
      "source": [
        "# Path to the .txt file\n",
        "txt_file_path = \"/content/ALPUB_v2_extracted_new/alpub_v2_inventory.txt\"\n",
        "\n",
        "# Read and display the first 20 lines\n",
        "with open(txt_file_path, \"r\") as file:\n",
        "    lines = file.readlines()\n",
        "\n",
        "print(\"First 20 lines of the .txt file:\")\n",
        "print(\"\".join(lines[:20]))\n"
      ],
      "metadata": {
        "colab": {
          "base_uri": "https://localhost:8080/"
        },
        "id": "CDhCljqtvqa3",
        "outputId": "87008e20-7ee6-4456-99ad-81bf45b9d585"
      },
      "execution_count": 34,
      "outputs": [
        {
          "output_type": "stream",
          "name": "stdout",
          "text": [
            "First 20 lines of the .txt file:\n",
            "Alpha: 21200\n",
            "Beta: 1296\n",
            "Gamma: 3721\n",
            "Delta: 5689\n",
            "Epsilon: 14909\n",
            "Zeta: 701\n",
            "Eta: 7348\n",
            "Theta: 3717\n",
            "Iota: 13830\n",
            "Kappa: 8110\n",
            "Lambda: 6906\n",
            "Mu: 6924\n",
            "Nu: 20056\n",
            "Xi: 641\n",
            "Omicron: 22756\n",
            "Pi: 9031\n",
            "Rho: 10453\n",
            "LunateSigma: 10151\n",
            "Tau: 14817\n",
            "Upsilon: 8129\n",
            "\n"
          ]
        }
      ]
    },
    {
      "cell_type": "markdown",
      "source": [
        "**Augment the Dataset for Balance**\n",
        "\n",
        "For a more balanced dataset, consider augmenting images for underrepresented classes ( Psi, Xi, Zeta).\n",
        "\n",
        "Rotation: Rotate images by small angles.\n",
        "\n",
        "Flipping: Horizontally or vertically flip images."
      ],
      "metadata": {
        "id": "EgGX51z_wkgi"
      }
    },
    {
      "cell_type": "code",
      "source": [
        "from PIL import Image, ImageOps\n",
        "import os\n",
        "from tqdm import tqdm  # For progress tracking\n",
        "\n",
        "# Define the underrepresented classes and output directory\n",
        "underrepresented_classes = [\"Psi\", \"Xi\", \"Zeta\"]\n",
        "output_dir = \"/content/augmented\"\n",
        "os.makedirs(output_dir, exist_ok=True)\n",
        "\n",
        "# Define augmentations\n",
        "augmentations = [\n",
        "    lambda x: x.rotate(15),  # Rotate 15 degrees\n",
        "    lambda x: ImageOps.mirror(x),  # Flip horizontally\n",
        "    lambda x: x.crop((10, 10, x.width - 10, x.height - 10)).resize(x.size)  # Crop and resize\n",
        "]\n",
        "\n",
        "# Function to augment a single image\n",
        "def augment_image(image_path, label, output_dir, augmentations):\n",
        "    img = Image.open(image_path)\n",
        "    img_name = os.path.basename(image_path)\n",
        "    for i, aug in enumerate(augmentations):\n",
        "        augmented_img = aug(img)\n",
        "        augmented_img.save(os.path.join(output_dir, f\"{label}_aug_{i}_{img_name}\"))\n",
        "\n",
        "# Iterate through all images in underrepresented classes\n",
        "for label in underrepresented_classes:\n",
        "    print(f\"Augmenting images for label: {label}\")\n",
        "    class_images = metadata_df[metadata_df['label'] == label]['image_path'].tolist()\n",
        "    for img_path in tqdm(class_images):  # Use tqdm for progress tracking\n",
        "        augment_image(img_path, label, output_dir, augmentations)\n",
        "\n",
        "print(f\"Augmentation completed. Augmented images saved to: {output_dir}\")"
      ],
      "metadata": {
        "colab": {
          "base_uri": "https://localhost:8080/"
        },
        "id": "yLbBWwVUwt8g",
        "outputId": "76e404df-44b5-4265-84b3-eb7361d2ca9e"
      },
      "execution_count": 36,
      "outputs": [
        {
          "output_type": "stream",
          "name": "stdout",
          "text": [
            "Augmenting images for label: Psi\n"
          ]
        },
        {
          "output_type": "stream",
          "name": "stderr",
          "text": [
            "100%|██████████| 513/513 [00:00<00:00, 859.53it/s]\n"
          ]
        },
        {
          "output_type": "stream",
          "name": "stdout",
          "text": [
            "Augmenting images for label: Xi\n"
          ]
        },
        {
          "output_type": "stream",
          "name": "stderr",
          "text": [
            "100%|██████████| 641/641 [00:00<00:00, 897.15it/s]\n"
          ]
        },
        {
          "output_type": "stream",
          "name": "stdout",
          "text": [
            "Augmenting images for label: Zeta\n"
          ]
        },
        {
          "output_type": "stream",
          "name": "stderr",
          "text": [
            "100%|██████████| 701/701 [00:00<00:00, 929.99it/s]"
          ]
        },
        {
          "output_type": "stream",
          "name": "stdout",
          "text": [
            "Augmentation completed. Augmented images saved to: /content/augmented\n"
          ]
        },
        {
          "output_type": "stream",
          "name": "stderr",
          "text": [
            "\n"
          ]
        }
      ]
    },
    {
      "cell_type": "code",
      "source": [
        "# Collect augmented images and update metadata\n",
        "augmented_metadata = []\n",
        "for aug_file in os.listdir(output_dir):\n",
        "    label = aug_file.split(\"_\")[0]  # Extract the label from the filename\n",
        "    augmented_metadata.append({\n",
        "        \"image_path\": os.path.join(output_dir, aug_file),\n",
        "        \"label\": label,\n",
        "        \"task\": \"character_recognition\",\n",
        "        \"source\": \"AL_PUB_v2\",\n",
        "        \"augmentation_type\": \"augmented\"\n",
        "    })\n",
        "\n",
        "# Convert to DataFrame and append to original metadata\n",
        "augmented_df = pd.DataFrame(augmented_metadata)\n",
        "combined_metadata = pd.concat([metadata_df, augmented_df], ignore_index=True)\n",
        "\n",
        "# Save updated metadata\n",
        "updated_metadata_path = \"/content/combined_metadata_with_augmentation.csv\"\n",
        "combined_metadata.to_csv(updated_metadata_path, index=False)\n",
        "\n",
        "print(f\"Updated metadata saved to: {updated_metadata_path}\")\n"
      ],
      "metadata": {
        "colab": {
          "base_uri": "https://localhost:8080/"
        },
        "id": "wgHnB5nZ1WTs",
        "outputId": "a834b3f4-ea97-4fba-8225-ab221d55c404"
      },
      "execution_count": 38,
      "outputs": [
        {
          "output_type": "stream",
          "name": "stdout",
          "text": [
            "Updated metadata saved to: /content/combined_metadata_with_augmentation.csv\n"
          ]
        }
      ]
    },
    {
      "cell_type": "markdown",
      "source": [
        "# Merge AL_PUB_v2 Images with Unified Dataset"
      ],
      "metadata": {
        "id": "h--savMb0n2q"
      }
    },
    {
      "cell_type": "markdown",
      "source": [
        "1. Combine Original and Augmented Metadata\n",
        "Merge the original metadata from AL_PUB_v2 with the metadata for augmented images.\n",
        "2. Add Task and Source Columns\n",
        "Add columns like task, source, and augmentation_type to align with the unified dataset structure.\n",
        "3. Concatenate with Unified Dataset\n",
        "Append the combined metadata to your existing unified dataset."
      ],
      "metadata": {
        "id": "aJ-2xwlJ0nz3"
      }
    },
    {
      "cell_type": "code",
      "source": [
        "original_metadata_path = \"/content/alpub_metadata_dynamic.csv\"  # Original AL_PUB_v2 metadata\n",
        "augmented_metadata_path = \"/content/combined_metadata_with_augmentation.csv\"  # Augmented metadata\n",
        "unified_dataset_path = \"/content/unified_dataset_with_alpub_v2.csv\"  # Unified dataset\n",
        "\n",
        "# Load metadata files\n",
        "original_metadata = pd.read_csv(original_metadata_path)\n",
        "augmented_metadata = pd.read_csv(augmented_metadata_path)\n",
        "unified_metadata = pd.read_csv(unified_dataset_path)\n",
        "\n",
        "# Add task, source, and augmentation type columns\n",
        "original_metadata['task'] = 'character_recognition'\n",
        "original_metadata['source'] = 'AL_PUB_v2'\n",
        "original_metadata['augmentation_type'] = 'none'\n",
        "\n",
        "augmented_metadata['task'] = 'character_recognition'\n",
        "augmented_metadata['source'] = 'AL_PUB_v2'\n",
        "augmented_metadata['augmentation_type'] = 'augmented'\n",
        "\n",
        "# Combine original and augmented metadata\n",
        "combined_metadata = pd.concat([original_metadata, augmented_metadata], ignore_index=True)\n",
        "\n",
        "# Append to the unified dataset\n",
        "final_metadata = pd.concat([unified_metadata, combined_metadata], ignore_index=True)\n",
        "\n",
        "# Save the updated unified dataset\n",
        "final_dataset_path = \"/content/unified_dataset_final.csv\"\n",
        "final_metadata.to_csv(final_dataset_path, index=False)\n",
        "\n",
        "print(f\"Final unified dataset saved to: {final_dataset_path}\")\n",
        "print(final_metadata.head())"
      ],
      "metadata": {
        "colab": {
          "base_uri": "https://localhost:8080/"
        },
        "id": "SAMWMxEx0ykF",
        "outputId": "2fed9943-0851-48b8-cebf-cdc2b2a7b4d6"
      },
      "execution_count": 39,
      "outputs": [
        {
          "output_type": "stream",
          "name": "stderr",
          "text": [
            "<ipython-input-39-d47a9e013c90>:7: DtypeWarning: Columns (2,3,4) have mixed types. Specify dtype option on import or set low_memory=False.\n",
            "  augmented_metadata = pd.read_csv(augmented_metadata_path)\n"
          ]
        },
        {
          "output_type": "stream",
          "name": "stdout",
          "text": [
            "Final unified dataset saved to: /content/unified_dataset_final.csv\n",
            "                                          image_path                   task  \\\n",
            "0  /content/unified_dataset/alpub_v2/Z_POxy.v0043...  character_recognition   \n",
            "1  /content/unified_dataset/alpub_v2/Z_POxy.v0041...  character_recognition   \n",
            "2  /content/unified_dataset/alpub_v2/Z_POxy.v0015...  character_recognition   \n",
            "3  /content/unified_dataset/alpub_v2/Z_POxy.v0018...  character_recognition   \n",
            "4  /content/unified_dataset/alpub_v2/Z_POxy.v0020...  character_recognition   \n",
            "\n",
            "      source augmentation_type label  \n",
            "0  AL_PUB_v2              none   NaN  \n",
            "1  AL_PUB_v2              none   NaN  \n",
            "2  AL_PUB_v2              none   NaN  \n",
            "3  AL_PUB_v2              none   NaN  \n",
            "4  AL_PUB_v2              none   NaN  \n"
          ]
        }
      ]
    },
    {
      "cell_type": "markdown",
      "source": [
        "# Datasets so far.\n",
        "\n",
        "1. **Tiny ImageNet**\n",
        "Source: Tiny ImageNet dataset.\n",
        "**Task: Denoising**\n",
        "Removes noise from images to improve their clarity and restore details.\n",
        "Size: 100,000 images.\n",
        "Augmentation Type: none.\n",
        "2. **COCO (Microsoft Common Objects in Context)**\n",
        "Source: COCO 2017 dataset.\n",
        "**Task: Inpainting**\n",
        "Fills in missing or occluded parts of an image seamlessly.\n",
        "Size: 100,000 images (randomly selected subset from COCO).\n",
        "Augmentation Type: none.\n",
        "3. **DIV2K**\n",
        "Source: DIV2K (super-resolution benchmark dataset).\n",
        "**Task: Super-Resolution**\n",
        "Enhances the resolution of low-resolution images to recover finer details.\n",
        "Size: 800 image pairs (high-res and downscaled versions).\n",
        "Augmentation Type: downscaled for low-resolution images.\n",
        "4. **CIFAR-10**\n",
        "Source: CIFAR-10 dataset.\n",
        "**Task: Super-Resolution**\n",
        "Enhances the resolution of low-resolution images.\n",
        "Size: 50,000 images (original dataset).\n",
        "Augmentation Type: downscaled.\n",
        "5. **CIFAR-100**\n",
        "Source: CIFAR-100 dataset.\n",
        "**Task: Super-Resolution**\n",
        "Enhances the resolution of low-resolution images.\n",
        "Size: 50,000 images (original dataset).\n",
        "Augmentation Type: downscaled.\n",
        "6. **AL_PUB_v2** (Ancient Greek Characters Dataset)\n",
        "Source: AL_PUB_v2 dataset from Kaggle.\n",
        "**Task: Character Recognition**\n",
        "Recognizes and classifies individual ancient Greek characters.\n",
        "Size:\n",
        "Original: 205,797 images across 24 Greek character classes.\n",
        "\n",
        "**Augmented:** Additional images for underrepresented classes (Psi, Xi, Zeta) using techniques like rotation, flipping, and cropping.\n",
        "Augmentation Type: none for originals, augmented for augmented images."
      ],
      "metadata": {
        "id": "S8FyHYR-8tSG"
      }
    },
    {
      "cell_type": "code",
      "source": [
        "# Final unified dataset\n",
        "final_metadata_path = \"/content/unified_dataset_final.csv\"\n",
        "final_metadata = pd.read_csv(final_metadata_path)\n",
        "\n",
        "# --------------------------------\n",
        "# 1. Total number of images\n",
        "# --------------------------------\n",
        "\n",
        "total_images = len(final_metadata)\n",
        "print(f\"Total number of images: {total_images}\")\n",
        "\n",
        "# --------------------------------\n",
        "# 2. Label distribution\n",
        "# --------------------------------\n",
        "\n",
        "label_distribution = final_metadata['label'].value_counts()\n",
        "print(\"\\nLabel Distribution:\")\n",
        "print(label_distribution)\n",
        "\n",
        "# --------------------------------\n",
        "# 3. Task distribution\n",
        "# --------------------------------\n",
        "\n",
        "task_distribution = final_metadata['task'].value_counts()\n",
        "print(\"\\nTask Distribution:\")\n",
        "print(task_distribution)\n",
        "\n",
        "# --------------------------------\n",
        "# 4. Source distribution\n",
        "# --------------------------------\n",
        "\n",
        "source_distribution = final_metadata['source'].value_counts()\n",
        "print(\"\\nSource Distribution:\")\n",
        "print(source_distribution)\n",
        "\n",
        "# --------------------------------\n",
        "# 5. Augmentation type distribution\n",
        "# --------------------------------\n",
        "augmentation_distribution = final_metadata['augmentation_type'].value_counts()\n",
        "print(\"\\nAugmentation Type Distribution:\")\n",
        "print(augmentation_distribution)\n",
        "\n",
        "# --------------------------------\n",
        "# Optional: Save all statistics to a CSV for easy reference\n",
        "# --------------------------------\n",
        "statistics = {\n",
        "    \"Label Distribution\": label_distribution,\n",
        "    \"Task Distribution\": task_distribution,\n",
        "    \"Source Distribution\": source_distribution,\n",
        "    \"Augmentation Type Distribution\": augmentation_distribution\n",
        "}\n",
        "statistics_df = pd.DataFrame({key: value for key, value in statistics.items()})\n",
        "statistics_df.to_csv(\"/content/unified_dataset_statistics.csv\", index=True)\n",
        "print(\"Statistics saved to: /content/unified_dataset_statistics.csv\")\n"
      ],
      "metadata": {
        "colab": {
          "base_uri": "https://localhost:8080/"
        },
        "id": "ZxUduq21_MwT",
        "outputId": "8e85bc2c-1239-4984-ef69-737e0b3099ba"
      },
      "execution_count": 43,
      "outputs": [
        {
          "output_type": "stream",
          "name": "stderr",
          "text": [
            "<ipython-input-43-5f38ec2ecf94>:3: DtypeWarning: Columns (4) have mixed types. Specify dtype option on import or set low_memory=False.\n",
            "  final_metadata = pd.read_csv(final_metadata_path)\n"
          ]
        },
        {
          "output_type": "stream",
          "name": "stdout",
          "text": [
            "Total number of images: 622956\n",
            "\n",
            "Label Distribution:\n",
            "label\n",
            "Omicron        45512\n",
            "Alpha          42400\n",
            "Nu             40112\n",
            "Epsilon        29818\n",
            "Tau            29634\n",
            "Iota           27660\n",
            "Rho            20906\n",
            "LunateSigma    20302\n",
            "Pi             18062\n",
            "Upsilon        16258\n",
            "Kappa          16220\n",
            "Omega          15280\n",
            "Eta            14696\n",
            "Mu             13848\n",
            "Lambda         13812\n",
            "Delta          11378\n",
            "Chi             8658\n",
            "Gamma           7442\n",
            "Theta           7434\n",
            "Phi             5860\n",
            "Zeta            3505\n",
            "Xi              3205\n",
            "Beta            2592\n",
            "Psi             2565\n",
            "Name: count, dtype: int64\n",
            "\n",
            "Task Distribution:\n",
            "task\n",
            "character_recognition    622956\n",
            "Name: count, dtype: int64\n",
            "\n",
            "Source Distribution:\n",
            "source\n",
            "AL_PUB_v2    622956\n",
            "Name: count, dtype: int64\n",
            "\n",
            "Augmentation Type Distribution:\n",
            "augmentation_type\n",
            "none         411594\n",
            "augmented    211362\n",
            "Name: count, dtype: int64\n",
            "Statistics saved to: /content/unified_dataset_statistics.csv\n"
          ]
        }
      ]
    },
    {
      "cell_type": "code",
      "source": [
        "import pandas as pd\n",
        "\n",
        "# Path to the file\n",
        "balanced_dataset_path = \"/content/unified_dataset_balanced.csv\"\n",
        "\n",
        "# Load the dataset\n",
        "balanced_metadata = pd.read_csv(balanced_dataset_path)\n",
        "\n",
        "# Inspect the first few rows\n",
        "print(\"Sample rows from the balanced dataset:\")\n",
        "print(balanced_metadata.head())\n",
        "\n",
        "# Total number of images\n",
        "total_images = len(balanced_metadata)\n",
        "print(f\"\\nTotal number of images: {total_images}\")\n",
        "\n",
        "# Task distribution\n",
        "if \"task\" in balanced_metadata.columns:\n",
        "    task_distribution = balanced_metadata['task'].value_counts()\n",
        "    print(\"\\nTask Distribution:\")\n",
        "    print(task_distribution)\n",
        "\n",
        "# Source distribution\n",
        "if \"source\" in balanced_metadata.columns:\n",
        "    source_distribution = balanced_metadata['source'].value_counts()\n",
        "    print(\"\\nSource Distribution:\")\n",
        "    print(source_distribution)\n",
        "\n",
        "# Augmentation type distribution\n",
        "if \"augmentation_type\" in balanced_metadata.columns:\n",
        "    augmentation_distribution = balanced_metadata['augmentation_type'].value_counts()\n",
        "    print(\"\\nAugmentation Type Distribution:\")\n",
        "    print(augmentation_distribution)\n"
      ],
      "metadata": {
        "colab": {
          "base_uri": "https://localhost:8080/"
        },
        "id": "5nTAVXYYCFX4",
        "outputId": "462c4008-afd3-4dc3-ff6e-658751d023d2"
      },
      "execution_count": 44,
      "outputs": [
        {
          "output_type": "stream",
          "name": "stdout",
          "text": [
            "Sample rows from the balanced dataset:\n",
            "                                          image_path       task  \\\n",
            "0  /content/unified_dataset/tiny_imagenet_n037062...  denoising   \n",
            "1  /content/unified_dataset/tiny_imagenet_n037062...  denoising   \n",
            "2  /content/unified_dataset/tiny_imagenet_n037062...  denoising   \n",
            "3  /content/unified_dataset/tiny_imagenet_n037062...  denoising   \n",
            "4  /content/unified_dataset/tiny_imagenet_n037062...  denoising   \n",
            "\n",
            "          source augmentation_type  \n",
            "0  Tiny ImageNet              none  \n",
            "1  Tiny ImageNet              none  \n",
            "2  Tiny ImageNet              none  \n",
            "3  Tiny ImageNet              none  \n",
            "4  Tiny ImageNet              none  \n",
            "\n",
            "Total number of images: 200000\n",
            "\n",
            "Task Distribution:\n",
            "task\n",
            "denoising     100000\n",
            "inpainting    100000\n",
            "Name: count, dtype: int64\n",
            "\n",
            "Source Distribution:\n",
            "source\n",
            "Tiny ImageNet    100000\n",
            "COCO             100000\n",
            "Name: count, dtype: int64\n",
            "\n",
            "Augmentation Type Distribution:\n",
            "augmentation_type\n",
            "none    200000\n",
            "Name: count, dtype: int64\n"
          ]
        }
      ]
    },
    {
      "cell_type": "code",
      "source": [
        "import pandas as pd\n",
        "\n",
        "# List of all potential CSV files in your directory\n",
        "csv_files = [\n",
        "    \"/content/alpub_metadata.csv\",\n",
        "    \"/content/alpub_metadata_dynamic.csv\",\n",
        "    \"/content/combined_metadata_with_augmentation.csv\",\n",
        "    \"/content/unified_dataset_balanced.csv\",\n",
        "    \"/content/unified_dataset_final.csv\",\n",
        "    \"/content/unified_dataset_with_alpub_v2.csv\",\n",
        "    \"/content/unified_dataset_statistics.csv\"\n",
        "]\n",
        "\n",
        "# Iterate through all files and print summaries\n",
        "for file_path in csv_files:\n",
        "    try:\n",
        "        print(f\"Inspecting file: {file_path}\")\n",
        "        data = pd.read_csv(file_path)\n",
        "\n",
        "        # Print basic statistics\n",
        "        print(f\"File: {file_path}\")\n",
        "        print(f\"Number of rows: {len(data)}\")\n",
        "        print(f\"Number of columns: {len(data.columns)}\")\n",
        "        print(f\"Columns: {data.columns.tolist()}\")\n",
        "        print(f\"Sample rows:\\n{data.head()}\")\n",
        "        print(\"-\" * 40)\n",
        "    except Exception as e:\n",
        "        print(f\"Could not process {file_path}. Error: {e}\")\n"
      ],
      "metadata": {
        "colab": {
          "base_uri": "https://localhost:8080/"
        },
        "id": "4NlEGXP3Ff8R",
        "outputId": "27ae1386-d76d-4530-88a1-72b5879bf3ec"
      },
      "execution_count": 45,
      "outputs": [
        {
          "output_type": "stream",
          "name": "stdout",
          "text": [
            "Inspecting file: /content/alpub_metadata.csv\n",
            "File: /content/alpub_metadata.csv\n",
            "Number of rows: 0\n",
            "Number of columns: 3\n",
            "Columns: ['image_path', 'label', 'class_name']\n",
            "Sample rows:\n",
            "Empty DataFrame\n",
            "Columns: [image_path, label, class_name]\n",
            "Index: []\n",
            "----------------------------------------\n",
            "Inspecting file: /content/alpub_metadata_dynamic.csv\n",
            "File: /content/alpub_metadata_dynamic.csv\n",
            "Number of rows: 205797\n",
            "Number of columns: 2\n",
            "Columns: ['image_path', 'label']\n",
            "Sample rows:\n",
            "                                          image_path label\n",
            "0  /content/ALPUB_v2_extracted_new/ALPUB_v2/image...   Rho\n",
            "1  /content/ALPUB_v2_extracted_new/ALPUB_v2/image...   Rho\n",
            "2  /content/ALPUB_v2_extracted_new/ALPUB_v2/image...   Rho\n",
            "3  /content/ALPUB_v2_extracted_new/ALPUB_v2/image...   Rho\n",
            "4  /content/ALPUB_v2_extracted_new/ALPUB_v2/image...   Rho\n",
            "----------------------------------------\n",
            "Inspecting file: /content/combined_metadata_with_augmentation.csv\n"
          ]
        },
        {
          "output_type": "stream",
          "name": "stderr",
          "text": [
            "<ipython-input-45-d35d70016308>:18: DtypeWarning: Columns (2,3,4) have mixed types. Specify dtype option on import or set low_memory=False.\n",
            "  data = pd.read_csv(file_path)\n"
          ]
        },
        {
          "output_type": "stream",
          "name": "stdout",
          "text": [
            "File: /content/combined_metadata_with_augmentation.csv\n",
            "Number of rows: 211362\n",
            "Number of columns: 5\n",
            "Columns: ['image_path', 'label', 'task', 'source', 'augmentation_type']\n",
            "Sample rows:\n",
            "                                          image_path label task source  \\\n",
            "0  /content/ALPUB_v2_extracted_new/ALPUB_v2/image...   Rho  NaN    NaN   \n",
            "1  /content/ALPUB_v2_extracted_new/ALPUB_v2/image...   Rho  NaN    NaN   \n",
            "2  /content/ALPUB_v2_extracted_new/ALPUB_v2/image...   Rho  NaN    NaN   \n",
            "3  /content/ALPUB_v2_extracted_new/ALPUB_v2/image...   Rho  NaN    NaN   \n",
            "4  /content/ALPUB_v2_extracted_new/ALPUB_v2/image...   Rho  NaN    NaN   \n",
            "\n",
            "  augmentation_type  \n",
            "0               NaN  \n",
            "1               NaN  \n",
            "2               NaN  \n",
            "3               NaN  \n",
            "4               NaN  \n",
            "----------------------------------------\n",
            "Inspecting file: /content/unified_dataset_balanced.csv\n",
            "File: /content/unified_dataset_balanced.csv\n",
            "Number of rows: 200000\n",
            "Number of columns: 4\n",
            "Columns: ['image_path', 'task', 'source', 'augmentation_type']\n",
            "Sample rows:\n",
            "                                          image_path       task  \\\n",
            "0  /content/unified_dataset/tiny_imagenet_n037062...  denoising   \n",
            "1  /content/unified_dataset/tiny_imagenet_n037062...  denoising   \n",
            "2  /content/unified_dataset/tiny_imagenet_n037062...  denoising   \n",
            "3  /content/unified_dataset/tiny_imagenet_n037062...  denoising   \n",
            "4  /content/unified_dataset/tiny_imagenet_n037062...  denoising   \n",
            "\n",
            "          source augmentation_type  \n",
            "0  Tiny ImageNet              none  \n",
            "1  Tiny ImageNet              none  \n",
            "2  Tiny ImageNet              none  \n",
            "3  Tiny ImageNet              none  \n",
            "4  Tiny ImageNet              none  \n",
            "----------------------------------------\n",
            "Inspecting file: /content/unified_dataset_final.csv\n"
          ]
        },
        {
          "output_type": "stream",
          "name": "stderr",
          "text": [
            "<ipython-input-45-d35d70016308>:18: DtypeWarning: Columns (4) have mixed types. Specify dtype option on import or set low_memory=False.\n",
            "  data = pd.read_csv(file_path)\n"
          ]
        },
        {
          "output_type": "stream",
          "name": "stdout",
          "text": [
            "File: /content/unified_dataset_final.csv\n",
            "Number of rows: 622956\n",
            "Number of columns: 5\n",
            "Columns: ['image_path', 'task', 'source', 'augmentation_type', 'label']\n",
            "Sample rows:\n",
            "                                          image_path                   task  \\\n",
            "0  /content/unified_dataset/alpub_v2/Z_POxy.v0043...  character_recognition   \n",
            "1  /content/unified_dataset/alpub_v2/Z_POxy.v0041...  character_recognition   \n",
            "2  /content/unified_dataset/alpub_v2/Z_POxy.v0015...  character_recognition   \n",
            "3  /content/unified_dataset/alpub_v2/Z_POxy.v0018...  character_recognition   \n",
            "4  /content/unified_dataset/alpub_v2/Z_POxy.v0020...  character_recognition   \n",
            "\n",
            "      source augmentation_type label  \n",
            "0  AL_PUB_v2              none   NaN  \n",
            "1  AL_PUB_v2              none   NaN  \n",
            "2  AL_PUB_v2              none   NaN  \n",
            "3  AL_PUB_v2              none   NaN  \n",
            "4  AL_PUB_v2              none   NaN  \n",
            "----------------------------------------\n",
            "Inspecting file: /content/unified_dataset_with_alpub_v2.csv\n",
            "File: /content/unified_dataset_with_alpub_v2.csv\n",
            "Number of rows: 205797\n",
            "Number of columns: 4\n",
            "Columns: ['image_path', 'task', 'source', 'augmentation_type']\n",
            "Sample rows:\n",
            "                                          image_path                   task  \\\n",
            "0  /content/unified_dataset/alpub_v2/Z_POxy.v0043...  character_recognition   \n",
            "1  /content/unified_dataset/alpub_v2/Z_POxy.v0041...  character_recognition   \n",
            "2  /content/unified_dataset/alpub_v2/Z_POxy.v0015...  character_recognition   \n",
            "3  /content/unified_dataset/alpub_v2/Z_POxy.v0018...  character_recognition   \n",
            "4  /content/unified_dataset/alpub_v2/Z_POxy.v0020...  character_recognition   \n",
            "\n",
            "      source augmentation_type  \n",
            "0  AL_PUB_v2              none  \n",
            "1  AL_PUB_v2              none  \n",
            "2  AL_PUB_v2              none  \n",
            "3  AL_PUB_v2              none  \n",
            "4  AL_PUB_v2              none  \n",
            "----------------------------------------\n",
            "Inspecting file: /content/unified_dataset_statistics.csv\n",
            "File: /content/unified_dataset_statistics.csv\n",
            "Number of rows: 28\n",
            "Number of columns: 5\n",
            "Columns: ['Unnamed: 0', 'Label Distribution', 'Task Distribution', 'Source Distribution', 'Augmentation Type Distribution']\n",
            "Sample rows:\n",
            "  Unnamed: 0  Label Distribution  Task Distribution  Source Distribution  \\\n",
            "0  AL_PUB_v2                 NaN                NaN             622956.0   \n",
            "1      Alpha             42400.0                NaN                  NaN   \n",
            "2       Beta              2592.0                NaN                  NaN   \n",
            "3        Chi              8658.0                NaN                  NaN   \n",
            "4      Delta             11378.0                NaN                  NaN   \n",
            "\n",
            "   Augmentation Type Distribution  \n",
            "0                             NaN  \n",
            "1                             NaN  \n",
            "2                             NaN  \n",
            "3                             NaN  \n",
            "4                             NaN  \n",
            "----------------------------------------\n"
          ]
        }
      ]
    },
    {
      "cell_type": "markdown",
      "source": [
        "**Confirm CIFAR-10 and CIFAR-100**"
      ],
      "metadata": {
        "id": "qztTtfTzbiHy"
      }
    },
    {
      "cell_type": "code",
      "source": [
        "cifar10_hr_path = \"/content/data/cifar/cifar10_hr\"\n",
        "cifar100_lr_path = \"/content/data/cifar/cifar100_lr\"\n",
        "\n",
        "# Check if directories exist and list contents if they do\n",
        "paths_to_check = {\n",
        "    \"CIFAR-10 High-Resolution Path\": cifar10_hr_path,\n",
        "    \"CIFAR-100 Low-Resolution Path\": cifar100_lr_path\n",
        "}\n",
        "\n",
        "for description, path in paths_to_check.items():\n",
        "    if os.path.exists(path):\n",
        "        print(f\"{description}: Found\")\n",
        "        print(f\"Sample files: {os.listdir(path)[:5]}\")\n",
        "    else:\n",
        "        print(f\"{description}: Path does not exist\")\n"
      ],
      "metadata": {
        "colab": {
          "base_uri": "https://localhost:8080/"
        },
        "id": "d3hZwi_qbalh",
        "outputId": "5c231742-25f1-46fd-b013-0fc3baca3ba3"
      },
      "execution_count": 55,
      "outputs": [
        {
          "output_type": "stream",
          "name": "stdout",
          "text": [
            "CIFAR-10 High-Resolution Path: Found\n",
            "Sample files: ['23632_hr.png', '28766_hr.png', '33820_hr.png', '46445_hr.png', '6125_hr.png']\n",
            "CIFAR-100 Low-Resolution Path: Found\n",
            "Sample files: ['17979_lr.png', '16583_lr.png', '47045_lr.png', '36395_lr.png', '33339_lr.png']\n"
          ]
        }
      ]
    },
    {
      "cell_type": "markdown",
      "source": [
        "# Datasets and Paths\n",
        "\n",
        "**Tiny ImageNet (Denoising Task)**\n",
        "\n",
        "Path: /content/unified_dataset/tiny_imagenet_*\n",
        "\n",
        "**COCO Dataset (Inpainting Task)**\n",
        "\n",
        "Path: /content/unified_dataset/coco_*\n",
        "\n",
        "**AL_PUB_v2 Dataset (Character Recognition Task)**\n",
        "\n",
        "Original Images Path: /content/unified_dataset/alpub_v2/\n",
        "\n",
        "Augmented Images Path: /content/unified_dataset/augmented_alpub_v2/\n",
        "\n",
        "**DIV2K Dataset (Super-Resolution Task)**\n",
        "\n",
        "High-Resolution Images Path: /content/data/DIV2K/DIV2K_train_HR\n",
        "Low-Resolution Images Path: /content/unified_dataset/super_resolution_lr\n",
        "\n",
        "**CIFAR-10 Dataset (Super-Resolution Task)**\n",
        "\n",
        "High-Resolution Images Path: /content/data/cifar/cifar10_hr\n",
        "\n",
        "**CIFAR-100 Dataset (Super-Resolution Task)**\n",
        "\n",
        "Low-Resolution Images Path: /content/data/cifar/cifar100_lr"
      ],
      "metadata": {
        "id": "iaHRs4W5dyAs"
      }
    },
    {
      "cell_type": "code",
      "source": [
        "# Paths to metadata sources\n",
        "tiny_imagenet_metadata_path = \"/content/unified_dataset_balanced.csv\"  # Tiny ImageNet + COCO\n",
        "alpub_metadata_path = \"/content/combined_metadata_with_augmentation.csv\"  # AL_PUB_v2\n",
        "div2k_metadata_path = \"/content/div2k_metadata.csv\"  # DIV2K\n",
        "cifar10_metadata_path = \"/content/data/cifar/cifar10_hr\"  # CIFAR-10 HR\n",
        "cifar100_metadata_path = \"/content/data/cifar/cifar100_lr\"  # CIFAR-100 LR\n",
        "\n",
        "# --------------------------------\n",
        "# Step 1: Load all metadata files\n",
        "# --------------------------------\n",
        "# Load existing metadata\n",
        "tiny_imagenet_metadata = pd.read_csv(tiny_imagenet_metadata_path)\n",
        "alpub_metadata = pd.read_csv(alpub_metadata_path)\n",
        "div2k_metadata = pd.read_csv(div2k_metadata_path)\n",
        "\n",
        "# Create metadata for CIFAR-10 and CIFAR-100 if not already done\n",
        "cifar_metadata = []\n",
        "\n",
        "# CIFAR-10 (High Resolution)\n",
        "for img_file in os.listdir(cifar10_metadata_path):\n",
        "    cifar_metadata.append({\n",
        "        \"image_path\": os.path.join(cifar10_metadata_path, img_file),\n",
        "        \"task\": \"super_resolution\",\n",
        "        \"source\": \"CIFAR-10\",\n",
        "        \"augmentation_type\": \"none\",\n",
        "    })\n",
        "\n",
        "# CIFAR-100 (Low Resolution)\n",
        "for img_file in os.listdir(cifar100_metadata_path):\n",
        "    cifar_metadata.append({\n",
        "        \"image_path\": os.path.join(cifar100_metadata_path, img_file),\n",
        "        \"task\": \"super_resolution\",\n",
        "        \"source\": \"CIFAR-100\",\n",
        "        \"augmentation_type\": \"none\",\n",
        "    })\n",
        "\n",
        "# Convert CIFAR metadata to a DataFrame\n",
        "cifar_metadata_df = pd.DataFrame(cifar_metadata)\n",
        "\n",
        "# --------------------------------\n",
        "# Step 2: Merge all metadata\n",
        "# --------------------------------\n",
        "# Combine all datasets into one unified dataframe\n",
        "final_dataset = pd.concat([tiny_imagenet_metadata, alpub_metadata, div2k_metadata, cifar_metadata_df], ignore_index=True)\n",
        "\n",
        "# --------------------------------\n",
        "# Step 3: Save the unified dataset\n",
        "# --------------------------------\n",
        "final_dataset_path = \"/content/final_dataset.csv\"\n",
        "final_dataset.to_csv(final_dataset_path, index=False)\n",
        "\n",
        "# --------------------------------\n",
        "# Step 4: Display statistics\n",
        "# --------------------------------\n",
        "print(f\"Unified dataset saved to: {final_dataset_path}\")\n",
        "print(f\"Total number of images: {len(final_dataset)}\")\n",
        "print(\"Sample rows from the unified dataset:\")\n",
        "print(final_dataset.sample(5))\n",
        "\n",
        "# Statistics\n",
        "print(\"\\nTask Distribution:\")\n",
        "print(final_dataset['task'].value_counts())\n",
        "print(\"\\nSource Distribution:\")\n",
        "print(final_dataset['source'].value_counts())\n",
        "print(\"\\nAugmentation Type Distribution:\")\n",
        "print(final_dataset['augmentation_type'].value_counts())\n"
      ],
      "metadata": {
        "colab": {
          "base_uri": "https://localhost:8080/"
        },
        "id": "UnmK-zbEeGiZ",
        "outputId": "53d7ac74-6ab0-47b0-f8b1-37d243e76f1d"
      },
      "execution_count": 56,
      "outputs": [
        {
          "output_type": "stream",
          "name": "stderr",
          "text": [
            "<ipython-input-56-4b08a2c9c310>:13: DtypeWarning: Columns (2,3,4) have mixed types. Specify dtype option on import or set low_memory=False.\n",
            "  alpub_metadata = pd.read_csv(alpub_metadata_path)\n"
          ]
        },
        {
          "output_type": "stream",
          "name": "stdout",
          "text": [
            "Unified dataset saved to: /content/final_dataset.csv\n",
            "Total number of images: 512162\n",
            "Sample rows from the unified dataset:\n",
            "                                               image_path              task  \\\n",
            "203885  /content/ALPUB_v2_extracted_new/ALPUB_v2/image...               NaN   \n",
            "328473  /content/ALPUB_v2_extracted_new/ALPUB_v2/image...               NaN   \n",
            "76158   /content/unified_dataset/tiny_imagenet_n030147...         denoising   \n",
            "433898        /content/data/cifar/cifar10_hr/18792_hr.png  super_resolution   \n",
            "338957  /content/ALPUB_v2_extracted_new/ALPUB_v2/image...               NaN   \n",
            "\n",
            "               source augmentation_type    label  \n",
            "203885            NaN               NaN      Rho  \n",
            "328473            NaN               NaN  Omicron  \n",
            "76158   Tiny ImageNet              none      NaN  \n",
            "433898       CIFAR-10              none      NaN  \n",
            "338957            NaN               NaN       Mu  \n",
            "\n",
            "Task Distribution:\n",
            "task\n",
            "super_resolution         100800\n",
            "denoising                100000\n",
            "inpainting               100000\n",
            "character_recognition      5565\n",
            "Name: count, dtype: int64\n",
            "\n",
            "Source Distribution:\n",
            "source\n",
            "Tiny ImageNet    100000\n",
            "COCO             100000\n",
            "CIFAR-100         50000\n",
            "CIFAR-10          50000\n",
            "AL_PUB_v2          5565\n",
            "DIV2K               800\n",
            "Name: count, dtype: int64\n",
            "\n",
            "Augmentation Type Distribution:\n",
            "augmentation_type\n",
            "none          300000\n",
            "augmented       5565\n",
            "downscaled       800\n",
            "Name: count, dtype: int64\n"
          ]
        }
      ]
    },
    {
      "cell_type": "markdown",
      "source": [
        "# Next Steps: Fix Missing Metadata:\n",
        "\n",
        "1. Address rows with missing values in the task and source columns (likely from AL_PUB_v2).\n",
        "\n",
        "2. Assign character_recognition to missing task and AL_PUB_v2 to missing source.\n",
        "\n",
        "3. For character_recognition, analyze the distribution of labels (e.g., Greek characters).\n",
        "\n",
        "4. Finalize Dataset: Ensure all metadata is consistent and ready for model training.\n"
      ],
      "metadata": {
        "id": "Nl4s3qnUh56O"
      }
    }
  ],
  "metadata": {
    "colab": {
      "provenance": [],
      "gpuType": "T4",
      "authorship_tag": "ABX9TyMFn2BPn0NKGe0iL0ZKh6po",
      "include_colab_link": true
    },
    "kernelspec": {
      "display_name": "Python 3",
      "name": "python3"
    },
    "language_info": {
      "name": "python"
    },
    "accelerator": "GPU"
  },
  "nbformat": 4,
  "nbformat_minor": 0
}