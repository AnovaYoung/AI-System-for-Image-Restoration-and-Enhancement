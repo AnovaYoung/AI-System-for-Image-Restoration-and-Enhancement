{
  "cells": [
    {
      "cell_type": "markdown",
      "metadata": {
        "id": "view-in-github",
        "colab_type": "text"
      },
      "source": [
        "<a href=\"https://colab.research.google.com/github/AnovaYoung/AI-System-for-Image-Restoration-and-Enhancement/blob/Data/DataLoadingandCleaning.ipynb\" target=\"_parent\"><img src=\"https://colab.research.google.com/assets/colab-badge.svg\" alt=\"Open In Colab\"/></a>"
      ]
    },
    {
      "cell_type": "code",
      "execution_count": null,
      "metadata": {
        "collapsed": true,
        "id": "7fv8Er-bM2gc"
      },
      "outputs": [],
      "source": [
        "!pip install pycocotools"
      ]
    },
    {
      "cell_type": "code",
      "execution_count": null,
      "metadata": {
        "colab": {
          "base_uri": "https://localhost:8080/"
        },
        "collapsed": true,
        "id": "lqpZ1CWpaKxY",
        "outputId": "b0e7227f-87a1-49f1-d8f1-5d8ae6ca299f"
      },
      "outputs": [
        {
          "name": "stdout",
          "output_type": "stream",
          "text": [
            "Requirement already satisfied: kaggle in /usr/local/lib/python3.10/dist-packages (1.6.17)\n",
            "Requirement already satisfied: kagglehub in /usr/local/lib/python3.10/dist-packages (0.3.4)\n",
            "Requirement already satisfied: pycocotools in /usr/local/lib/python3.10/dist-packages (2.0.8)\n",
            "Requirement already satisfied: six>=1.10 in /usr/local/lib/python3.10/dist-packages (from kaggle) (1.16.0)\n",
            "Requirement already satisfied: certifi>=2023.7.22 in /usr/local/lib/python3.10/dist-packages (from kaggle) (2024.8.30)\n",
            "Requirement already satisfied: python-dateutil in /usr/local/lib/python3.10/dist-packages (from kaggle) (2.8.2)\n",
            "Requirement already satisfied: requests in /usr/local/lib/python3.10/dist-packages (from kaggle) (2.32.3)\n",
            "Requirement already satisfied: tqdm in /usr/local/lib/python3.10/dist-packages (from kaggle) (4.66.6)\n",
            "Requirement already satisfied: python-slugify in /usr/local/lib/python3.10/dist-packages (from kaggle) (8.0.4)\n",
            "Requirement already satisfied: urllib3 in /usr/local/lib/python3.10/dist-packages (from kaggle) (2.2.3)\n",
            "Requirement already satisfied: bleach in /usr/local/lib/python3.10/dist-packages (from kaggle) (6.2.0)\n",
            "Requirement already satisfied: packaging in /usr/local/lib/python3.10/dist-packages (from kagglehub) (24.2)\n",
            "Requirement already satisfied: matplotlib>=2.1.0 in /usr/local/lib/python3.10/dist-packages (from pycocotools) (3.8.0)\n",
            "Requirement already satisfied: numpy in /usr/local/lib/python3.10/dist-packages (from pycocotools) (1.26.4)\n",
            "Requirement already satisfied: contourpy>=1.0.1 in /usr/local/lib/python3.10/dist-packages (from matplotlib>=2.1.0->pycocotools) (1.3.1)\n",
            "Requirement already satisfied: cycler>=0.10 in /usr/local/lib/python3.10/dist-packages (from matplotlib>=2.1.0->pycocotools) (0.12.1)\n",
            "Requirement already satisfied: fonttools>=4.22.0 in /usr/local/lib/python3.10/dist-packages (from matplotlib>=2.1.0->pycocotools) (4.55.0)\n",
            "Requirement already satisfied: kiwisolver>=1.0.1 in /usr/local/lib/python3.10/dist-packages (from matplotlib>=2.1.0->pycocotools) (1.4.7)\n",
            "Requirement already satisfied: pillow>=6.2.0 in /usr/local/lib/python3.10/dist-packages (from matplotlib>=2.1.0->pycocotools) (11.0.0)\n",
            "Requirement already satisfied: pyparsing>=2.3.1 in /usr/local/lib/python3.10/dist-packages (from matplotlib>=2.1.0->pycocotools) (3.2.0)\n",
            "Requirement already satisfied: webencodings in /usr/local/lib/python3.10/dist-packages (from bleach->kaggle) (0.5.1)\n",
            "Requirement already satisfied: text-unidecode>=1.3 in /usr/local/lib/python3.10/dist-packages (from python-slugify->kaggle) (1.3)\n",
            "Requirement already satisfied: charset-normalizer<4,>=2 in /usr/local/lib/python3.10/dist-packages (from requests->kaggle) (3.4.0)\n",
            "Requirement already satisfied: idna<4,>=2.5 in /usr/local/lib/python3.10/dist-packages (from requests->kaggle) (3.10)\n",
            "Downloading Tiny ImageNet...\n",
            "Downloading from https://www.kaggle.com/api/v1/datasets/download/akash2sharma/tiny-imagenet?dataset_version_number=1...\n"
          ]
        },
        {
          "name": "stderr",
          "output_type": "stream",
          "text": [
            "100%|██████████| 474M/474M [00:06<00:00, 71.8MB/s]"
          ]
        },
        {
          "name": "stdout",
          "output_type": "stream",
          "text": [
            "Extracting files...\n"
          ]
        },
        {
          "name": "stderr",
          "output_type": "stream",
          "text": [
            "\n"
          ]
        },
        {
          "name": "stdout",
          "output_type": "stream",
          "text": [
            "Tiny ImageNet downloaded and extracted to: /content/data/tiny_imagenet\n",
            "Downloading COCO Dataset...\n",
            "--2024-11-22 19:44:53--  http://images.cocodataset.org/zips/train2017.zip\n",
            "Resolving images.cocodataset.org (images.cocodataset.org)... 52.216.48.153, 3.5.27.198, 3.5.7.133, ...\n",
            "Connecting to images.cocodataset.org (images.cocodataset.org)|52.216.48.153|:80... connected.\n",
            "HTTP request sent, awaiting response... 200 OK\n",
            "Length: 19336861798 (18G) [application/zip]\n",
            "Saving to: ‘/content/data/coco/train2017.zip’\n",
            "\n",
            "/content/data/coco/ 100%[===================>]  18.01G  66.9MB/s    in 5m 7s   \n",
            "\n",
            "2024-11-22 19:50:00 (60.1 MB/s) - ‘/content/data/coco/train2017.zip’ saved [19336861798/19336861798]\n",
            "\n",
            "COCO Dataset downloaded and extracted to: /content/data/coco\n",
            "\n",
            "Verifying dataset at /content/data/tiny_imagenet:\n",
            "Found 1 files/folders.\n",
            "Sample files: ['tiny-imagenet-200']\n",
            "\n",
            "Verifying dataset at /content/data/coco/train2017:\n",
            "Found 118287 files/folders.\n",
            "Sample files: ['000000160232.jpg', '000000535682.jpg', '000000008612.jpg', '000000310499.jpg', '000000249555.jpg']\n"
          ]
        }
      ],
      "source": [
        "# Install necessary libraries\n",
        "!pip install kaggle kagglehub pycocotools\n",
        "\n",
        "import os\n",
        "import kagglehub\n",
        "from pycocotools.coco import COCO\n",
        "import requests\n",
        "import zipfile\n",
        "\n",
        "# Define base directories\n",
        "base_dir = \"/content/data\"\n",
        "os.makedirs(base_dir, exist_ok=True)\n",
        "\n",
        "# --------------------------------------\n",
        "# STEP 1: Download Tiny ImageNet\n",
        "# --------------------------------------\n",
        "print(\"Downloading Tiny ImageNet...\")\n",
        "tiny_imagenet_path = kagglehub.dataset_download(\"akash2sharma/tiny-imagenet\")\n",
        "tiny_imagenet_dir = os.path.join(base_dir, \"tiny_imagenet\")\n",
        "os.makedirs(tiny_imagenet_dir, exist_ok=True)\n",
        "\n",
        "# Move Tiny ImageNet to base_dir\n",
        "!cp -r {tiny_imagenet_path}/* {tiny_imagenet_dir}\n",
        "print(\"Tiny ImageNet downloaded and extracted to:\", tiny_imagenet_dir)\n",
        "\n",
        "# --------------------------------------\n",
        "# STEP 2: Download COCO Dataset\n",
        "# --------------------------------------\n",
        "print(\"Downloading COCO Dataset...\")\n",
        "coco_url = \"http://images.cocodataset.org/zips/train2017.zip\"\n",
        "coco_dir = os.path.join(base_dir, \"coco\")\n",
        "os.makedirs(coco_dir, exist_ok=True)\n",
        "\n",
        "# Download and extract COCO\n",
        "coco_zip_path = os.path.join(coco_dir, \"train2017.zip\")\n",
        "!wget {coco_url} -O {coco_zip_path}\n",
        "with zipfile.ZipFile(coco_zip_path, \"r\") as zip_ref:\n",
        "    zip_ref.extractall(coco_dir)\n",
        "os.remove(coco_zip_path)  # Clean up the zip file\n",
        "print(\"COCO Dataset downloaded and extracted to:\", coco_dir)\n",
        "\n",
        "# --------------------------------------\n",
        "# STEP 3: Verify Both Datasets\n",
        "# --------------------------------------\n",
        "def verify_dataset(directory, sample_files=5):\n",
        "    print(f\"\\nVerifying dataset at {directory}:\")\n",
        "    if os.path.exists(directory) and os.listdir(directory):\n",
        "        print(f\"Found {len(os.listdir(directory))} files/folders.\")\n",
        "        print(f\"Sample files: {os.listdir(directory)[:sample_files]}\")\n",
        "    else:\n",
        "        print(f\"No files found in {directory}.\")\n",
        "\n",
        "verify_dataset(tiny_imagenet_dir)\n",
        "\n",
        "verify_dataset(os.path.join(coco_dir, \"train2017\"))\n"
      ]
    },
    {
      "cell_type": "markdown",
      "metadata": {
        "id": "evsOznBay8xA"
      },
      "source": [
        "Combining COCO and TinyImageNet into one Dataset"
      ]
    },
    {
      "cell_type": "code",
      "execution_count": null,
      "metadata": {
        "colab": {
          "base_uri": "https://localhost:8080/"
        },
        "id": "AialoiPYz2Q4",
        "outputId": "5ed4e658-118b-454b-95dd-b35f82cc92e5"
      },
      "outputs": [
        {
          "name": "stdout",
          "output_type": "stream",
          "text": [
            "Processing Tiny ImageNet...\n",
            "Processing COCO Dataset...\n",
            "Saving metadata...\n",
            "Unified dataset metadata saved to: /content/unified_dataset_balanced.csv\n",
            "                                            image_path        task source  \\\n",
            "199995  /content/unified_dataset/coco_000000081177.jpg  inpainting   COCO   \n",
            "199996  /content/unified_dataset/coco_000000565087.jpg  inpainting   COCO   \n",
            "199997  /content/unified_dataset/coco_000000241209.jpg  inpainting   COCO   \n",
            "199998  /content/unified_dataset/coco_000000152942.jpg  inpainting   COCO   \n",
            "199999  /content/unified_dataset/coco_000000539481.jpg  inpainting   COCO   \n",
            "\n",
            "       augmentation_type  \n",
            "199995              none  \n",
            "199996              none  \n",
            "199997              none  \n",
            "199998              none  \n",
            "199999              none  \n"
          ]
        }
      ],
      "source": [
        "import pandas as pd\n",
        "from shutil import copyfile\n",
        "import os\n",
        "import random\n",
        "\n",
        "# Base paths\n",
        "tiny_imagenet_dir = \"/content/data/tiny_imagenet/tiny-imagenet-200/train\"\n",
        "coco_dir = \"/content/data/coco/train2017\"\n",
        "unified_dataset_dir = \"/content/unified_dataset\"\n",
        "os.makedirs(unified_dataset_dir, exist_ok=True)\n",
        "\n",
        "metadata = []\n",
        "\n",
        "# --------------------------------------\n",
        "# STEP 1: Process Tiny ImageNet\n",
        "# --------------------------------------\n",
        "print(\"Processing Tiny ImageNet...\")\n",
        "for class_dir in os.listdir(tiny_imagenet_dir):\n",
        "    class_path = os.path.join(tiny_imagenet_dir, class_dir, \"images\")\n",
        "    if os.path.isdir(class_path):\n",
        "        for img_file in os.listdir(class_path):\n",
        "            src_path = os.path.join(class_path, img_file)\n",
        "            dest_path = os.path.join(unified_dataset_dir, f\"tiny_imagenet_{img_file}\")\n",
        "            copyfile(src_path, dest_path)\n",
        "            metadata.append({\n",
        "                \"image_path\": dest_path,\n",
        "                \"task\": \"denoising\",  # Default task\n",
        "                \"source\": \"Tiny ImageNet\",\n",
        "                \"augmentation_type\": \"none\"\n",
        "            })\n",
        "\n",
        "# --------------------------------------\n",
        "# STEP 2: Process COCO Dataset (Select 100,000 Images)\n",
        "# --------------------------------------\n",
        "print(\"Processing COCO Dataset...\")\n",
        "coco_images = [os.path.join(coco_dir, img) for img in os.listdir(coco_dir)]\n",
        "random.shuffle(coco_images)  # Shuffle to ensure randomness\n",
        "coco_subset = coco_images[:100000]  # Select first 100,000 images\n",
        "\n",
        "for img_file in coco_subset:\n",
        "    img_name = os.path.basename(img_file)\n",
        "    dest_path = os.path.join(unified_dataset_dir, f\"coco_{img_name}\")\n",
        "    copyfile(img_file, dest_path)\n",
        "    metadata.append({\n",
        "        \"image_path\": dest_path,\n",
        "        \"task\": \"inpainting\",  # Default task\n",
        "        \"source\": \"COCO\",\n",
        "        \"augmentation_type\": \"none\"\n",
        "    })\n",
        "\n",
        "# --------------------------------------\n",
        "# STEP 3: Save Metadata to CSV\n",
        "# --------------------------------------\n",
        "print(\"Saving metadata...\")\n",
        "metadata_df = pd.DataFrame(metadata)\n",
        "metadata_csv_path = \"/content/unified_dataset_balanced.csv\"\n",
        "metadata_df.to_csv(metadata_csv_path, index=False)\n",
        "print(f\"Unified dataset metadata saved to: {metadata_csv_path}\")\n",
        "\n",
        "print(metadata_df.tail())\n"
      ]
    },
    {
      "cell_type": "code",
      "execution_count": null,
      "metadata": {
        "colab": {
          "base_uri": "https://localhost:8080/"
        },
        "id": "AVtZi7b0-nSs",
        "outputId": "0bc85bbb-ea3c-4654-ba1e-85684ef81fac"
      },
      "outputs": [
        {
          "name": "stdout",
          "output_type": "stream",
          "text": [
            "task\n",
            "denoising     100000\n",
            "inpainting    100000\n",
            "Name: count, dtype: int64\n",
            "source\n",
            "Tiny ImageNet    100000\n",
            "COCO             100000\n",
            "Name: count, dtype: int64\n"
          ]
        }
      ],
      "source": [
        "metadata_df = pd.read_csv(\"/content/unified_dataset_balanced.csv\")\n",
        "print(metadata_df['task'].value_counts())\n",
        "print(metadata_df['source'].value_counts())\n"
      ]
    },
    {
      "cell_type": "code",
      "execution_count": null,
      "metadata": {
        "colab": {
          "base_uri": "https://localhost:8080/"
        },
        "id": "NcZx494KRkzc",
        "outputId": "965e915d-a9ba-4bce-aae7-24a6a417b27c"
      },
      "outputs": [
        {
          "name": "stdout",
          "output_type": "stream",
          "text": [
            "Dataset Summary:\n",
            "<class 'pandas.core.frame.DataFrame'>\n",
            "RangeIndex: 200000 entries, 0 to 199999\n",
            "Data columns (total 4 columns):\n",
            " #   Column             Non-Null Count   Dtype \n",
            "---  ------             --------------   ----- \n",
            " 0   image_path         200000 non-null  object\n",
            " 1   task               200000 non-null  object\n",
            " 2   source             200000 non-null  object\n",
            " 3   augmentation_type  200000 non-null  object\n",
            "dtypes: object(4)\n",
            "memory usage: 6.1+ MB\n",
            "None\n",
            "\n",
            "Task Distribution:\n",
            "task\n",
            "denoising     100000\n",
            "inpainting    100000\n",
            "Name: count, dtype: int64\n",
            "\n",
            "Source Distribution:\n",
            "source\n",
            "Tiny ImageNet    100000\n",
            "COCO             100000\n",
            "Name: count, dtype: int64\n",
            "\n",
            "Augmentation Type Distribution:\n",
            "augmentation_type\n",
            "none    200000\n",
            "Name: count, dtype: int64\n"
          ]
        }
      ],
      "source": [
        "metadata_csv_path = \"/content/unified_dataset_balanced.csv\"\n",
        "metadata_df = pd.read_csv(metadata_csv_path)\n",
        "\n",
        "# Summarize the dataset\n",
        "print(\"Dataset Summary:\")\n",
        "print(metadata_df.info())\n",
        "print(\"\\nTask Distribution:\")\n",
        "print(metadata_df['task'].value_counts())\n",
        "print(\"\\nSource Distribution:\")\n",
        "print(metadata_df['source'].value_counts())\n",
        "print(\"\\nAugmentation Type Distribution:\")\n",
        "print(metadata_df['augmentation_type'].value_counts())\n"
      ]
    },
    {
      "cell_type": "code",
      "execution_count": null,
      "metadata": {
        "colab": {
          "base_uri": "https://localhost:8080/"
        },
        "id": "KbgRCHjJRxUk",
        "outputId": "32f6827e-6536-416e-f866-52dfbe86ab5d"
      },
      "outputs": [
        {
          "name": "stdout",
          "output_type": "stream",
          "text": [
            "Missing Values:\n",
            "image_path           0\n",
            "task                 0\n",
            "source               0\n",
            "augmentation_type    0\n",
            "dtype: int64\n",
            "Number of duplicate image paths: 0\n"
          ]
        }
      ],
      "source": [
        "# Check for missing values\n",
        "print(\"Missing Values:\")\n",
        "print(metadata_df.isnull().sum())\n",
        "\n",
        "# Check for duplicates\n",
        "duplicates = metadata_df.duplicated(subset='image_path')\n",
        "print(f\"Number of duplicate image paths: {duplicates.sum()}\")\n"
      ]
    },
    {
      "cell_type": "code",
      "execution_count": null,
      "metadata": {
        "colab": {
          "base_uri": "https://localhost:8080/",
          "height": 1000
        },
        "id": "8E-upOEvRyoj",
        "outputId": "a3e2cd3d-b461-4629-ac3c-95af25dae57b"
      },
      "outputs": [
        {
          "name": "stdout",
          "output_type": "stream",
          "text": [
            "Task Distribution:\n",
            " task\n",
            "denoising     100000\n",
            "inpainting    100000\n",
            "Name: count, dtype: int64\n",
            "\n",
            "Source Distribution:\n",
            " source\n",
            "Tiny ImageNet    100000\n",
            "COCO             100000\n",
            "Name: count, dtype: int64\n",
            "\n",
            "Augmentation Type Distribution:\n",
            " augmentation_type\n",
            "none    200000\n",
            "Name: count, dtype: int64\n"
          ]
        },
        {
          "data": {
            "image/png": "[encoded data removed]",
            "text/plain": [
              "<Figure size 800x500 with 1 Axes>"
            ]
          },
          "metadata": {},
          "output_type": "display_data"
        },
        {
          "data": {
            "image/png": "[encoded data removed]",
            "text/plain": [
              "<Figure size 800x500 with 1 Axes>"
            ]
          },
          "metadata": {},
          "output_type": "display_data"
        },
        {
          "data": {
            "image/png": "[encoded data removed]",
            "text/plain": [
              "<Figure size 800x500 with 1 Axes>"
            ]
          },
          "metadata": {},
          "output_type": "display_data"
        }
      ],
      "source": [
        "import pandas as pd\n",
        "import matplotlib.pyplot as plt\n",
        "\n",
        "# Load the dataset\n",
        "metadata_csv_path = \"/content/unified_dataset_balanced.csv\"\n",
        "metadata_df = pd.read_csv(metadata_csv_path)\n",
        "\n",
        "# Task Distribution\n",
        "task_counts = metadata_df['task'].value_counts()\n",
        "\n",
        "# Source Distribution\n",
        "source_counts = metadata_df['source'].value_counts()\n",
        "\n",
        "# Augmentation Type Distribution\n",
        "augmentation_counts = metadata_df['augmentation_type'].value_counts()\n",
        "\n",
        "# Display Distributions\n",
        "print(\"Task Distribution:\\n\", task_counts)\n",
        "print(\"\\nSource Distribution:\\n\", source_counts)\n",
        "print(\"\\nAugmentation Type Distribution:\\n\", augmentation_counts)\n",
        "\n",
        "# Visualization: Task Distribution\n",
        "plt.figure(figsize=(8, 5))\n",
        "task_counts.plot(kind='bar', title=\"Task Distribution\", rot=0)\n",
        "plt.xlabel(\"Task\")\n",
        "plt.ylabel(\"Count\")\n",
        "plt.show()\n",
        "\n",
        "# Visualization: Source Distribution\n",
        "plt.figure(figsize=(8, 5))\n",
        "source_counts.plot(kind='bar', title=\"Source Distribution\", rot=0, color=\"orange\")\n",
        "plt.xlabel(\"Source\")\n",
        "plt.ylabel(\"Count\")\n",
        "plt.show()\n",
        "\n",
        "# Visualization: Augmentation Type Distribution\n",
        "plt.figure(figsize=(8, 5))\n",
        "augmentation_counts.plot(kind='bar', title=\"Augmentation Type Distribution\", rot=0, color=\"green\")\n",
        "plt.xlabel(\"Augmentation Type\")\n",
        "plt.ylabel(\"Count\")\n",
        "plt.show()\n",
        "\n"
      ]
    },
    {
      "cell_type": "markdown",
      "metadata": {
        "id": "ebAsYbc-SdsC"
      },
      "source": [
        "# Dataset Summary\n",
        "**DataFrame Overview:**\n",
        "The dataset contains 123,657 rows and 4 columns:\n",
        "\n",
        "image_path: Path to each image file.\n",
        "\n",
        "**task:** The enhancement task for the image (e.g., denoising, inpainting).\n",
        "\n",
        "**source:** The dataset from which the image originates (Tiny ImageNet or COCO).\n",
        "\n",
        "**augmentation_type:** Indicates whether any degradation/augmentation has been applied (currently all none).\\\n",
        "\n",
        "**Memory Usage:** Approximately 3.8 MB, which is lightweight for a metadata file.\n",
        "\n"
      ]
    },
    {
      "cell_type": "markdown",
      "metadata": {
        "id": "deGVgiSkSuDU"
      },
      "source": [
        "# Distribution Insights\n",
        "\n",
        "**Task Distribution:**\n",
        "\n",
        "**Denoising:** 100,000 images (most likely sourced from Tiny ImageNet).\n",
        "\n",
        "**Inpainting:** 23,657 images (entirely from COCO).\n",
        "\n",
        "**Observation:** The dataset is imbalanced, with a significantly higher proportion of denoising images. This imbalance could affect model performance if both tasks are used simultaneously for training.\n",
        "\n",
        "**Source Distribution:**\n",
        "\n",
        "**Tiny ImageNet:** 100,000 images, all categorized under the denoising task.\n",
        "\n",
        "**COCO:** 23,657 images, all categorized under the inpainting task.\n",
        "Observation: Each source contributes to a specific task, which might streamline preprocessing but limits diversity within tasks.\n",
        "Augmentation Type:\n",
        "\n",
        "All images currently have the augmentation_type set to none, meaning no degradations ( noise, grayscale, downsampling) have been applied yet.\n",
        "\n"
      ]
    },
    {
      "cell_type": "markdown",
      "metadata": {
        "id": "zacuW1AAIGkb"
      },
      "source": [
        "# Next Pull and Process DIV2K for Super-Resolution\n",
        "\n",
        "**What is DIV2K?**\n",
        "\n",
        "A high-quality dataset designed for super-resolution tasks.\n",
        "Provides paired low-resolution (downscaled) and high-resolution images."
      ]
    },
    {
      "cell_type": "code",
      "execution_count": null,
      "metadata": {
        "colab": {
          "base_uri": "https://localhost:8080/"
        },
        "id": "UjdXNYlIINPw",
        "outputId": "707c9e09-1795-4efc-f1f1-1fa6f3dedcf5"
      },
      "outputs": [
        {
          "name": "stdout",
          "output_type": "stream",
          "text": [
            "Downloading DIV2K dataset...\n",
            "DIV2K dataset downloaded and extracted.\n",
            "Super-resolution dataset prepared with 800 pairs.\n"
          ]
        }
      ],
      "source": [
        "import requests\n",
        "import zipfile\n",
        "\n",
        "# Set up paths\n",
        "base_dir = \"/content/data\"\n",
        "div2k_dir = os.path.join(base_dir, \"DIV2K\")\n",
        "unified_dataset_dir = \"/content/unified_dataset\"\n",
        "os.makedirs(div2k_dir, exist_ok=True)\n",
        "os.makedirs(unified_dataset_dir, exist_ok=True)\n",
        "\n",
        "# DIV2K dataset URL (train high-resolution images)\n",
        "div2k_url = \"https://data.vision.ee.ethz.ch/cvl/DIV2K/DIV2K_train_HR.zip\"\n",
        "\n",
        "# Download DIV2K dataset\n",
        "div2k_zip_path = os.path.join(div2k_dir, \"DIV2K_train_HR.zip\")\n",
        "print(\"Downloading DIV2K dataset...\")\n",
        "response = requests.get(div2k_url, stream=True)\n",
        "with open(div2k_zip_path, \"wb\") as f:\n",
        "    for chunk in response.iter_content(chunk_size=8192):\n",
        "        f.write(chunk)\n",
        "\n",
        "# Extract DIV2K dataset\n",
        "with zipfile.ZipFile(div2k_zip_path, \"r\") as zip_ref:\n",
        "    zip_ref.extractall(div2k_dir)\n",
        "os.remove(div2k_zip_path)  # Clean up the zip file\n",
        "print(\"DIV2K dataset downloaded and extracted.\")\n",
        "\n",
        "# Prepare paired low-resolution and high-resolution images\n",
        "metadata = []\n",
        "\n",
        "div2k_hr_dir = os.path.join(div2k_dir, \"DIV2K_train_HR\")\n",
        "div2k_lr_dir = os.path.join(unified_dataset_dir, \"super_resolution_lr\")\n",
        "div2k_output_dir = os.path.join(unified_dataset_dir, \"super_resolution_hr\")\n",
        "os.makedirs(div2k_lr_dir, exist_ok=True)\n",
        "os.makedirs(div2k_output_dir, exist_ok=True)\n",
        "\n",
        "# Create paired data\n",
        "from PIL import Image\n",
        "\n",
        "def downscale_image(input_path, output_path, scale_factor=4):\n",
        "    img = Image.open(input_path)\n",
        "    img = img.resize((img.size[0] // scale_factor, img.size[1] // scale_factor), Image.BICUBIC)\n",
        "    img.save(output_path)\n",
        "\n",
        "for img_file in os.listdir(div2k_hr_dir):\n",
        "    hr_img_path = os.path.join(div2k_hr_dir, img_file)\n",
        "    lr_img_path = os.path.join(div2k_lr_dir, img_file)\n",
        "    output_img_path = os.path.join(div2k_output_dir, img_file)\n",
        "\n",
        "    # Downscale for low-resolution\n",
        "    downscale_image(hr_img_path, lr_img_path)\n",
        "    copyfile(hr_img_path, output_img_path)\n",
        "\n",
        "    # Add metadata\n",
        "    metadata.append({\n",
        "        \"image_path\": lr_img_path,\n",
        "        \"task\": \"super_resolution\",\n",
        "        \"source\": \"DIV2K\",\n",
        "        \"augmentation_type\": \"downscaled\"\n",
        "    })\n",
        "\n",
        "# Add metadata for high-resolution targets\n",
        "print(f\"Super-resolution dataset prepared with {len(metadata)} pairs.\")\n"
      ]
    },
    {
      "cell_type": "markdown",
      "metadata": {
        "id": "u1t4-hVoRFyC"
      },
      "source": [
        "Way too few examples. Lets pull more data for the Super-resolution\n",
        "task.\n",
        "\n",
        "**Proposed Plan**\n",
        "\n",
        "Combine Multiple Sources:\n",
        "\n",
        "Pull **CIFAR-10/100** and **CelebA-HQ**.\n",
        "\n",
        "Repurpose Tiny ImageNet or COCO subsets for super-resolution after pulling the above datasets, if needed.\n",
        "\n",
        "**Augment Existing DIV2K Data:**\n",
        "\n",
        "Use additional transformations to expand the current dataset (if needeed).\n",
        "\n",
        "**Target Balance:**\n",
        "\n",
        "Aim for ~50,000–100,000 examples for super-resolution to match other tasks."
      ]
    },
    {
      "cell_type": "markdown",
      "metadata": {
        "id": "m-Ixs9PeSiS7"
      },
      "source": [
        "# Pull and Process CIFAR-10 and CIFAR-100"
      ]
    },
    {
      "cell_type": "code",
      "execution_count": null,
      "metadata": {
        "colab": {
          "background_save": true,
          "base_uri": "https://localhost:8080/"
        },
        "id": "5e6pamnRSUUQ",
        "outputId": "031f44a0-808e-43fa-da59-b353afa72efa"
      },
      "outputs": [
        {
          "name": "stdout",
          "output_type": "stream",
          "text": [
            "Downloading data from https://www.cs.toronto.edu/~kriz/cifar-10-python.tar.gz\n",
            "\u001b[1m170498071/170498071\u001b[0m \u001b[32m━━━━━━━━━━━━━━━━━━━━\u001b[0m\u001b[37m\u001b[0m \u001b[1m3s\u001b[0m 0us/step\n",
            "Processing CIFAR-10...\n",
            "Downloading data from https://www.cs.toronto.edu/~kriz/cifar-100-python.tar.gz\n",
            "\u001b[1m169001437/169001437\u001b[0m \u001b[32m━━━━━━━━━━━━━━━━━━━━\u001b[0m\u001b[37m\u001b[0m \u001b[1m3s\u001b[0m 0us/step\n",
            "Processing CIFAR-100...\n"
          ]
        }
      ],
      "source": [
        "from keras.datasets import cifar10, cifar100\n",
        "from PIL import Image\n",
        "\n",
        "# Define paths\n",
        "cifar_dir = \"/content/data/cifar\"\n",
        "cifar10_lr_dir = os.path.join(cifar_dir, \"cifar10_lr\")\n",
        "cifar10_hr_dir = os.path.join(cifar_dir, \"cifar10_hr\")\n",
        "cifar100_lr_dir = os.path.join(cifar_dir, \"cifar100_lr\")\n",
        "cifar100_hr_dir = os.path.join(cifar_dir, \"cifar100_hr\")\n",
        "os.makedirs(cifar10_lr_dir, exist_ok=True)\n",
        "os.makedirs(cifar10_hr_dir, exist_ok=True)\n",
        "os.makedirs(cifar100_lr_dir, exist_ok=True)\n",
        "os.makedirs(cifar100_hr_dir, exist_ok=True)\n",
        "\n",
        "# Function to save low-res and high-res images\n",
        "def process_cifar(data, lr_dir, hr_dir, resize_factor=2):\n",
        "    for i, img_array in enumerate(data):\n",
        "        hr_img = Image.fromarray(img_array)\n",
        "        lr_img = hr_img.resize(\n",
        "            (hr_img.width // resize_factor, hr_img.height // resize_factor), Image.BICUBIC\n",
        "        )\n",
        "\n",
        "        # Save images\n",
        "        hr_path = os.path.join(hr_dir, f\"{i}_hr.png\")\n",
        "        lr_path = os.path.join(lr_dir, f\"{i}_lr.png\")\n",
        "        hr_img.save(hr_path)\n",
        "        lr_img.save(lr_path)\n",
        "\n",
        "        # Add metadata\n",
        "        metadata.append({\n",
        "            \"image_path\": lr_path,\n",
        "            \"task\": \"super_resolution\",\n",
        "            \"source\": \"CIFAR-10\" if \"cifar10\" in hr_dir else \"CIFAR-100\",\n",
        "            \"augmentation_type\": \"downscaled\"\n",
        "        })\n",
        "\n",
        "# Load CIFAR-10\n",
        "(train_images, _), (_, _) = cifar10.load_data()\n",
        "print(\"Processing CIFAR-10...\")\n",
        "process_cifar(train_images, cifar10_lr_dir, cifar10_hr_dir)\n",
        "\n",
        "# Load CIFAR-100\n",
        "(train_images, _), (_, _) = cifar100.load_data()\n",
        "print(\"Processing CIFAR-100...\")\n",
        "process_cifar(train_images, cifar100_lr_dir, cifar100_hr_dir)\n"
      ]
    },
    {
      "cell_type": "markdown",
      "source": [
        "**Verify Processed Image Count**"
      ],
      "metadata": {
        "id": "ChPysaACkfK8"
      }
    },
    {
      "cell_type": "code",
      "source": [
        "# Paths for CIFAR-10 and CIFAR-100\n",
        "cifar10_lr_dir = \"/content/data/cifar/cifar10_lr\"\n",
        "cifar10_hr_dir = \"/content/data/cifar/cifar10_hr\"\n",
        "cifar100_lr_dir = \"/content/data/cifar/cifar100_lr\"\n",
        "cifar100_hr_dir = \"/content/data/cifar/cifar100_hr\"\n",
        "\n",
        "# Count files in each directory\n",
        "print(f\"CIFAR-10 Low-Res: {len(os.listdir(cifar10_lr_dir))} images\")\n",
        "print(f\"CIFAR-10 High-Res: {len(os.listdir(cifar10_hr_dir))} images\")\n",
        "print(f\"CIFAR-100 Low-Res: {len(os.listdir(cifar100_lr_dir))} images\")\n",
        "print(f\"CIFAR-100 High-Res: {len(os.listdir(cifar100_hr_dir))} images\")\n"
      ],
      "metadata": {
        "colab": {
          "base_uri": "https://localhost:8080/"
        },
        "id": "dxfNmjYakgN6",
        "outputId": "26dc6bbd-d658-4c01-8da7-ec7ced156abc"
      },
      "execution_count": 12,
      "outputs": [
        {
          "output_type": "stream",
          "name": "stdout",
          "text": [
            "CIFAR-10 Low-Res: 50000 images\n",
            "CIFAR-10 High-Res: 50000 images\n",
            "CIFAR-100 Low-Res: 50000 images\n",
            "CIFAR-100 High-Res: 50000 images\n"
          ]
        }
      ]
    },
    {
      "cell_type": "code",
      "source": [
        "# Display metadata rows related to CIFAR\n",
        "cifar_metadata = metadata_df[metadata_df['source'].str.contains(\"CIFAR\", na=False)]\n",
        "print(f\"\\nNumber of CIFAR entries in metadata: {len(cifar_metadata)}\")\n",
        "print(cifar_metadata.head())"
      ],
      "metadata": {
        "colab": {
          "base_uri": "https://localhost:8080/"
        },
        "id": "2jQnj5tKknsK",
        "outputId": "2608f12b-60b7-487e-ce0d-13782df5fa43"
      },
      "execution_count": 13,
      "outputs": [
        {
          "output_type": "stream",
          "name": "stdout",
          "text": [
            "\n",
            "Number of CIFAR entries in metadata: 0\n",
            "Empty DataFrame\n",
            "Columns: [image_path, task, source, augmentation_type]\n",
            "Index: []\n"
          ]
        }
      ]
    },
    {
      "cell_type": "markdown",
      "source": [],
      "metadata": {
        "id": "mM9oKCRHkz1c"
      }
    },
    {
      "cell_type": "code",
      "source": [
        "import gdown\n",
        "\n",
        "# Define paths\n",
        "celeb_dir = \"/content/data/celeb\"\n",
        "celeb_lr_dir = os.path.join(celeb_dir, \"celeb_lr\")\n",
        "celeb_hr_dir = os.path.join(celeb_dir, \"celeb_hr\")\n",
        "os.makedirs(celeb_lr_dir, exist_ok=True)\n",
        "os.makedirs(celeb_hr_dir, exist_ok=True)\n",
        "\n",
        "# Download CelebA-HQ from Google Drive\n",
        "# Note: You might need a direct link or authenticate with gdown\n",
        "celeb_url = \"https://drive.google.com/uc?id=1tAxTV8Jb1QV0ITnl7hHEV-YZY2W2WBzK\"\n",
        "celeb_zip_path = os.path.join(celeb_dir, \"celeba_hq.zip\")\n",
        "gdown.download(celeb_url, celeb_zip_path, quiet=False)\n",
        "\n",
        "# Extract CelebA-HQ\n",
        "import zipfile\n",
        "with zipfile.ZipFile(celeb_zip_path, \"r\") as zip_ref:\n",
        "    zip_ref.extractall(celeb_hr_dir)\n",
        "\n",
        "# Process CelebA-HQ for super-resolution\n",
        "def process_celeb(dir_hr, dir_lr, resize_factor=4):\n",
        "    for img_file in os.listdir(dir_hr):\n",
        "        hr_path = os.path.join(dir_hr, img_file)\n",
        "        lr_path = os.path.join(dir_lr, img_file)\n",
        "\n",
        "        # Downscale image\n",
        "        img = Image.open(hr_path)\n",
        "        lr_img = img.resize((img.width // resize_factor, img.height // resize_factor), Image.BICUBIC)\n",
        "        lr_img.save(lr_path)\n",
        "\n",
        "        # Add metadata\n",
        "        metadata.append({\n",
        "            \"image_path\": lr_path,\n",
        "            \"task\": \"super_resolution\",\n",
        "            \"source\": \"CelebA-HQ\",\n",
        "            \"augmentation_type\": \"downscaled\"\n",
        "        })\n",
        "\n",
        "print(\"Processing CelebA-HQ...\")\n",
        "process_celeb(celeb_hr_dir, celeb_lr_dir)\n"
      ],
      "metadata": {
        "id": "Y7k4qzHHky6o"
      },
      "execution_count": null,
      "outputs": []
    }
  ],
  "metadata": {
    "colab": {
      "provenance": [],
      "authorship_tag": "ABX9TyNr4CSMXnSsPqA+i3OHBg32",
      "include_colab_link": true
    },
    "kernelspec": {
      "display_name": "Python 3",
      "name": "python3"
    },
    "language_info": {
      "name": "python"
    }
  },
  "nbformat": 4,
  "nbformat_minor": 0
}